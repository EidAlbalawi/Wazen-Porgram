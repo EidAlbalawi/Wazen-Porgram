{
 "cells": [
  {
   "cell_type": "code",
   "execution_count": 192,
   "id": "1cced8ec",
   "metadata": {},
   "outputs": [],
   "source": [
    "import pandas as pd \n",
    "import numpy as np \n",
    "import seaborn as sns \n",
    "import matplotlib.pyplot as plt \n",
    "from IPython.display import display"
   ]
  },
  {
   "cell_type": "code",
   "execution_count": 216,
   "id": "4b1d7a37",
   "metadata": {},
   "outputs": [],
   "source": [
    "Data_KPIs = pd.read_excel('Appointment Count of ALL Clinics in PHCs&Hospitals without walk-in.xlsx')"
   ]
  },
  {
   "cell_type": "code",
   "execution_count": 217,
   "id": "bc5661a9",
   "metadata": {},
   "outputs": [
    {
     "data": {
      "text/plain": [
       "(64515, 16)"
      ]
     },
     "execution_count": 217,
     "metadata": {},
     "output_type": "execute_result"
    }
   ],
   "source": [
    "Data_KPIs.shape"
   ]
  },
  {
   "cell_type": "code",
   "execution_count": 218,
   "id": "79b6ec34",
   "metadata": {},
   "outputs": [
    {
     "data": {
      "text/html": [
       "<div>\n",
       "<style scoped>\n",
       "    .dataframe tbody tr th:only-of-type {\n",
       "        vertical-align: middle;\n",
       "    }\n",
       "\n",
       "    .dataframe tbody tr th {\n",
       "        vertical-align: top;\n",
       "    }\n",
       "\n",
       "    .dataframe thead th {\n",
       "        text-align: right;\n",
       "    }\n",
       "</style>\n",
       "<table border=\"1\" class=\"dataframe\">\n",
       "  <thead>\n",
       "    <tr style=\"text-align: right;\">\n",
       "      <th></th>\n",
       "      <th>directorate_name_ar</th>\n",
       "      <th>directorate_name</th>\n",
       "      <th>facility_name_ar</th>\n",
       "      <th>facility_name</th>\n",
       "      <th>facility_cd</th>\n",
       "      <th>facility_type_name_ar</th>\n",
       "      <th>facility_type_name</th>\n",
       "      <th>his</th>\n",
       "      <th>latitude</th>\n",
       "      <th>longitude</th>\n",
       "      <th>service_status_as_of_extraction</th>\n",
       "      <th>service_code</th>\n",
       "      <th>service_name_ar</th>\n",
       "      <th>service_name</th>\n",
       "      <th>direct_appt</th>\n",
       "      <th>virtual_appt</th>\n",
       "    </tr>\n",
       "  </thead>\n",
       "  <tbody>\n",
       "    <tr>\n",
       "      <th>0</th>\n",
       "      <td>تجمع القصيم الصحي</td>\n",
       "      <td>Qassim Health Cluster</td>\n",
       "      <td>الاسكان ببريدة</td>\n",
       "      <td>Al Iskan</td>\n",
       "      <td>626.0</td>\n",
       "      <td>مراكز استشارية</td>\n",
       "      <td>MEGA PHC</td>\n",
       "      <td>True</td>\n",
       "      <td>26.38808</td>\n",
       "      <td>43.9323</td>\n",
       "      <td>Available</td>\n",
       "      <td>T15</td>\n",
       "      <td>عيادة طب أسنان عامة بالمراكز الصحية</td>\n",
       "      <td>General Dental Clinic in PHCs</td>\n",
       "      <td>1054.0</td>\n",
       "      <td>0.0</td>\n",
       "    </tr>\n",
       "    <tr>\n",
       "      <th>1</th>\n",
       "      <td>تجمع القصيم الصحي</td>\n",
       "      <td>Qassim Health Cluster</td>\n",
       "      <td>الاسكان ببريدة</td>\n",
       "      <td>Al Iskan</td>\n",
       "      <td>626.0</td>\n",
       "      <td>مراكز استشارية</td>\n",
       "      <td>MEGA PHC</td>\n",
       "      <td>True</td>\n",
       "      <td>26.38808</td>\n",
       "      <td>43.9323</td>\n",
       "      <td>Available</td>\n",
       "      <td>T14</td>\n",
       "      <td>عيادة طب الأسرة</td>\n",
       "      <td>Family Medicine Clinic</td>\n",
       "      <td>4154.0</td>\n",
       "      <td>0.0</td>\n",
       "    </tr>\n",
       "    <tr>\n",
       "      <th>2</th>\n",
       "      <td>تجمع القصيم الصحي</td>\n",
       "      <td>Qassim Health Cluster</td>\n",
       "      <td>الاسكان ببريدة</td>\n",
       "      <td>Al Iskan</td>\n",
       "      <td>626.0</td>\n",
       "      <td>مراكز استشارية</td>\n",
       "      <td>MEGA PHC</td>\n",
       "      <td>True</td>\n",
       "      <td>26.38808</td>\n",
       "      <td>43.9323</td>\n",
       "      <td>Available</td>\n",
       "      <td>T3</td>\n",
       "      <td>عيادة متابعة الحوامل</td>\n",
       "      <td>Maternity Follow up Clinic</td>\n",
       "      <td>259.0</td>\n",
       "      <td>0.0</td>\n",
       "    </tr>\n",
       "    <tr>\n",
       "      <th>3</th>\n",
       "      <td>تجمع القصيم الصحي</td>\n",
       "      <td>Qassim Health Cluster</td>\n",
       "      <td>الاسكان ببريدة</td>\n",
       "      <td>Al Iskan</td>\n",
       "      <td>626.0</td>\n",
       "      <td>مراكز استشارية</td>\n",
       "      <td>MEGA PHC</td>\n",
       "      <td>True</td>\n",
       "      <td>26.38808</td>\n",
       "      <td>43.9323</td>\n",
       "      <td>Available</td>\n",
       "      <td>T6</td>\n",
       "      <td>عيادة الطفل السليم وتطعيمات الأطفال</td>\n",
       "      <td>Well Baby and Vaccination Clinic</td>\n",
       "      <td>731.0</td>\n",
       "      <td>0.0</td>\n",
       "    </tr>\n",
       "    <tr>\n",
       "      <th>4</th>\n",
       "      <td>تجمع القصيم الصحي</td>\n",
       "      <td>Qassim Health Cluster</td>\n",
       "      <td>الاسكان ببريدة</td>\n",
       "      <td>Al Iskan</td>\n",
       "      <td>626.0</td>\n",
       "      <td>مراكز استشارية</td>\n",
       "      <td>MEGA PHC</td>\n",
       "      <td>True</td>\n",
       "      <td>26.38808</td>\n",
       "      <td>43.9323</td>\n",
       "      <td>Available</td>\n",
       "      <td>T970</td>\n",
       "      <td>عيادة تطعيم 6 أشهر</td>\n",
       "      <td>6 Months Vaccine</td>\n",
       "      <td>98.0</td>\n",
       "      <td>0.0</td>\n",
       "    </tr>\n",
       "  </tbody>\n",
       "</table>\n",
       "</div>"
      ],
      "text/plain": [
       "  directorate_name_ar       directorate_name facility_name_ar facility_name  \\\n",
       "0   تجمع القصيم الصحي  Qassim Health Cluster   الاسكان ببريدة      Al Iskan   \n",
       "1   تجمع القصيم الصحي  Qassim Health Cluster   الاسكان ببريدة      Al Iskan   \n",
       "2   تجمع القصيم الصحي  Qassim Health Cluster   الاسكان ببريدة      Al Iskan   \n",
       "3   تجمع القصيم الصحي  Qassim Health Cluster   الاسكان ببريدة      Al Iskan   \n",
       "4   تجمع القصيم الصحي  Qassim Health Cluster   الاسكان ببريدة      Al Iskan   \n",
       "\n",
       "   facility_cd facility_type_name_ar facility_type_name   his  latitude  \\\n",
       "0        626.0        مراكز استشارية           MEGA PHC  True  26.38808   \n",
       "1        626.0        مراكز استشارية           MEGA PHC  True  26.38808   \n",
       "2        626.0        مراكز استشارية           MEGA PHC  True  26.38808   \n",
       "3        626.0        مراكز استشارية           MEGA PHC  True  26.38808   \n",
       "4        626.0        مراكز استشارية           MEGA PHC  True  26.38808   \n",
       "\n",
       "   longitude service_status_as_of_extraction service_code  \\\n",
       "0    43.9323                       Available          T15   \n",
       "1    43.9323                       Available          T14   \n",
       "2    43.9323                       Available           T3   \n",
       "3    43.9323                       Available           T6   \n",
       "4    43.9323                       Available         T970   \n",
       "\n",
       "                       service_name_ar                      service_name  \\\n",
       "0  عيادة طب أسنان عامة بالمراكز الصحية     General Dental Clinic in PHCs   \n",
       "1                      عيادة طب الأسرة            Family Medicine Clinic   \n",
       "2                 عيادة متابعة الحوامل        Maternity Follow up Clinic   \n",
       "3  عيادة الطفل السليم وتطعيمات الأطفال  Well Baby and Vaccination Clinic   \n",
       "4                   عيادة تطعيم 6 أشهر                  6 Months Vaccine   \n",
       "\n",
       "   direct_appt  virtual_appt  \n",
       "0       1054.0           0.0  \n",
       "1       4154.0           0.0  \n",
       "2        259.0           0.0  \n",
       "3        731.0           0.0  \n",
       "4         98.0           0.0  "
      ]
     },
     "execution_count": 218,
     "metadata": {},
     "output_type": "execute_result"
    }
   ],
   "source": [
    "Data_KPIs.head()"
   ]
  },
  {
   "cell_type": "code",
   "execution_count": 219,
   "id": "e8ff9e5a",
   "metadata": {},
   "outputs": [
    {
     "data": {
      "text/plain": [
       "Index(['directorate_name_ar', 'directorate_name', 'facility_name_ar',\n",
       "       'facility_name', 'facility_cd', 'facility_type_name_ar',\n",
       "       'facility_type_name', 'his', 'latitude', 'longitude',\n",
       "       'service_status_as_of_extraction', 'service_code', 'service_name_ar',\n",
       "       'service_name', 'direct_appt', 'virtual_appt'],\n",
       "      dtype='object')"
      ]
     },
     "execution_count": 219,
     "metadata": {},
     "output_type": "execute_result"
    }
   ],
   "source": [
    "Data_KPIs.columns"
   ]
  },
  {
   "cell_type": "code",
   "execution_count": 220,
   "id": "ecebf171",
   "metadata": {},
   "outputs": [],
   "source": [
    "# coding for unique value \n",
    "# list of Mohid value for wazen ....\n",
    "Data_KPIs_= ['directorate_name_ar']\n",
    "for i in Data_KPIs_:\n",
    "    Data_KPIs[i] \n",
    "\n",
    "Data_KPIs_activation = [99,100,535,192,201\n",
    "                        ,534,536,200,277,219,216,2665,215,207,142,138,139,144,\n",
    "                        145,3832,278,146,141,84,93,40,165,89,90,95\n",
    "                        ,104,662,163,248,162,85,168,164,166,108,109,64,275,181,233,236,226,228\n",
    "                        ,230,2768,231,2579,234,263,232,235,122,128,261,126,127,121\n",
    "                        ,116,117,120,4414,174,173,244,1739,276,266,246,2619,2617,259,33,42,31,36,29,25,30,\n",
    "                        28,26,41,35,4348,37,38,27,86,39,21,156,3862,76,74,77,260,75,\n",
    "                        2668,71,72,3861,73,50,51]\n",
    "\n",
    "Data_KPIs =Data_KPIs [Data_KPIs.facility_cd.isin(Data_KPIs_activation) == True ]"
   ]
  },
  {
   "cell_type": "code",
   "execution_count": 221,
   "id": "874b9042",
   "metadata": {},
   "outputs": [],
   "source": [
    "################################\n",
    "# Saving Data To read The File #\n",
    "###############################\n",
    "Data_KPIs.to_csv('Data2333.csv', index=False)\n"
   ]
  },
  {
   "cell_type": "code",
   "execution_count": 222,
   "id": "65fd6525",
   "metadata": {},
   "outputs": [],
   "source": [
    "################################\n",
    "# Reading Data To read The File #\n",
    "###############################\n",
    "Waz_Data = pd.read_csv('Data2333.csv')"
   ]
  },
  {
   "cell_type": "code",
   "execution_count": 223,
   "id": "5796abfb",
   "metadata": {},
   "outputs": [
    {
     "data": {
      "text/plain": [
       "array([ 192.,  200.,  201.,  534.,  535.,  536.,  277.,  263., 2579.,\n",
       "        226.,  228.,  230.,  231.,  232.,  233.,  234.,  235.,  236.,\n",
       "        275.,  181.,  276.,  266.,  244.,  246., 1739.,  138.,  139.,\n",
       "        141.,  142.,  144.,  145.,  146.,  278., 3832.,   21.,   25.,\n",
       "         26.,   27.,   28.,   29.,   30.,   31.,   33.,   35.,   36.,\n",
       "         37.,   38.,   39.,   40.,   41.,   42.,   50.,   51.,   64.,\n",
       "         71.,   72.,   73.,   74.,   75.,   76.,   77.,   84.,   85.,\n",
       "         86.,   89.,   90.,   93.,   95.,   99.,  100.,  104.,  108.,\n",
       "        109.,  116.,  117.,  120.,  121.,  122.,  126.,  127.,  128.,\n",
       "        156.,  162.,  163.,  164.,  165.,  166.,  168.,  173.,  174.,\n",
       "        207.,  215.,  216.,  219.,  248.,  259.,  260.,  261.,  662.,\n",
       "       2665., 2668., 3861., 3862., 2768., 2617., 2619., 4414., 4348.])"
      ]
     },
     "execution_count": 223,
     "metadata": {},
     "output_type": "execute_result"
    }
   ],
   "source": [
    "################################\n",
    "# check the list mod id 108 shoud be..\n",
    "###############################\n",
    "Waz_Data.facility_cd.unique()"
   ]
  },
  {
   "cell_type": "code",
   "execution_count": 224,
   "id": "5dcb5f0a",
   "metadata": {},
   "outputs": [],
   "source": [
    "################################\n",
    "# Droping Columns To read The File #\n",
    "###############################\n",
    "Waz_Data.drop(['directorate_name_ar',\n",
    "       'facility_name_ar', 'facility_type_name_ar',\n",
    "       'facility_type_name', 'his', 'latitude', 'longitude',\n",
    "       'service_status_as_of_extraction', 'service_code', 'service_name_ar',\n",
    "       'service_name'],axis =1, inplace = True)"
   ]
  },
  {
   "cell_type": "code",
   "execution_count": 225,
   "id": "06535281",
   "metadata": {},
   "outputs": [
    {
     "data": {
      "text/html": [
       "<div>\n",
       "<style scoped>\n",
       "    .dataframe tbody tr th:only-of-type {\n",
       "        vertical-align: middle;\n",
       "    }\n",
       "\n",
       "    .dataframe tbody tr th {\n",
       "        vertical-align: top;\n",
       "    }\n",
       "\n",
       "    .dataframe thead th {\n",
       "        text-align: right;\n",
       "    }\n",
       "</style>\n",
       "<table border=\"1\" class=\"dataframe\">\n",
       "  <thead>\n",
       "    <tr style=\"text-align: right;\">\n",
       "      <th></th>\n",
       "      <th>directorate_name</th>\n",
       "      <th>facility_name</th>\n",
       "      <th>facility_cd</th>\n",
       "      <th>direct_appt</th>\n",
       "      <th>virtual_appt</th>\n",
       "    </tr>\n",
       "  </thead>\n",
       "  <tbody>\n",
       "    <tr>\n",
       "      <th>0</th>\n",
       "      <td>Asir Health Affairs</td>\n",
       "      <td>Al Barak Hospital</td>\n",
       "      <td>192.0</td>\n",
       "      <td>154.0</td>\n",
       "      <td>0.0</td>\n",
       "    </tr>\n",
       "    <tr>\n",
       "      <th>1</th>\n",
       "      <td>Asir Health Affairs</td>\n",
       "      <td>Al Barak Hospital</td>\n",
       "      <td>192.0</td>\n",
       "      <td>28.0</td>\n",
       "      <td>0.0</td>\n",
       "    </tr>\n",
       "    <tr>\n",
       "      <th>2</th>\n",
       "      <td>Asir Health Affairs</td>\n",
       "      <td>Al Barak Hospital</td>\n",
       "      <td>192.0</td>\n",
       "      <td>3.0</td>\n",
       "      <td>0.0</td>\n",
       "    </tr>\n",
       "    <tr>\n",
       "      <th>3</th>\n",
       "      <td>Asir Health Affairs</td>\n",
       "      <td>Al Barak Hospital</td>\n",
       "      <td>192.0</td>\n",
       "      <td>162.0</td>\n",
       "      <td>0.0</td>\n",
       "    </tr>\n",
       "    <tr>\n",
       "      <th>4</th>\n",
       "      <td>Asir Health Affairs</td>\n",
       "      <td>Al Barak Hospital</td>\n",
       "      <td>192.0</td>\n",
       "      <td>230.0</td>\n",
       "      <td>0.0</td>\n",
       "    </tr>\n",
       "  </tbody>\n",
       "</table>\n",
       "</div>"
      ],
      "text/plain": [
       "      directorate_name      facility_name  facility_cd  direct_appt  \\\n",
       "0  Asir Health Affairs  Al Barak Hospital        192.0        154.0   \n",
       "1  Asir Health Affairs  Al Barak Hospital        192.0         28.0   \n",
       "2  Asir Health Affairs  Al Barak Hospital        192.0          3.0   \n",
       "3  Asir Health Affairs  Al Barak Hospital        192.0        162.0   \n",
       "4  Asir Health Affairs  Al Barak Hospital        192.0        230.0   \n",
       "\n",
       "   virtual_appt  \n",
       "0           0.0  \n",
       "1           0.0  \n",
       "2           0.0  \n",
       "3           0.0  \n",
       "4           0.0  "
      ]
     },
     "execution_count": 225,
     "metadata": {},
     "output_type": "execute_result"
    }
   ],
   "source": [
    "# Data Frame columns that We have \n",
    "Waz_Data.head()"
   ]
  },
  {
   "cell_type": "code",
   "execution_count": 265,
   "id": "8b6b5a56",
   "metadata": {},
   "outputs": [],
   "source": [
    "dfgroup2 =Waz_Data.groupby(['directorate_name','facility_name','facility_cd']).agg({'direct_appt': 'sum','virtual_appt': 'sum'})\n",
    "dfgroup2.head()\n",
    "dfgroup2.columns = [['Direct_appt','Virtu-appt']]\n"
   ]
  },
  {
   "cell_type": "code",
   "execution_count": 266,
   "id": "e360b4f2",
   "metadata": {},
   "outputs": [
    {
     "data": {
      "text/html": [
       "<div>\n",
       "<style scoped>\n",
       "    .dataframe tbody tr th:only-of-type {\n",
       "        vertical-align: middle;\n",
       "    }\n",
       "\n",
       "    .dataframe tbody tr th {\n",
       "        vertical-align: top;\n",
       "    }\n",
       "\n",
       "    .dataframe thead tr th {\n",
       "        text-align: left;\n",
       "    }\n",
       "\n",
       "    .dataframe thead tr:last-of-type th {\n",
       "        text-align: right;\n",
       "    }\n",
       "</style>\n",
       "<table border=\"1\" class=\"dataframe\">\n",
       "  <thead>\n",
       "    <tr>\n",
       "      <th></th>\n",
       "      <th></th>\n",
       "      <th></th>\n",
       "      <th>Direct_appt</th>\n",
       "      <th>Virtu-appt</th>\n",
       "    </tr>\n",
       "    <tr>\n",
       "      <th>directorate_name</th>\n",
       "      <th>facility_name</th>\n",
       "      <th>facility_cd</th>\n",
       "      <th></th>\n",
       "      <th></th>\n",
       "    </tr>\n",
       "  </thead>\n",
       "  <tbody>\n",
       "    <tr>\n",
       "      <th rowspan=\"2\" valign=\"top\">AlAhsa Health Cluster</th>\n",
       "      <th>Al Jafar Hospital</th>\n",
       "      <th>99.0</th>\n",
       "      <td>3460.0</td>\n",
       "      <td>0.0</td>\n",
       "    </tr>\n",
       "    <tr>\n",
       "      <th>Madinet Al-Oyoun Hospital</th>\n",
       "      <th>100.0</th>\n",
       "      <td>3754.0</td>\n",
       "      <td>0.0</td>\n",
       "    </tr>\n",
       "    <tr>\n",
       "      <th rowspan=\"3\" valign=\"top\">Asir Health Affairs</th>\n",
       "      <th>Al Barak Hospital</th>\n",
       "      <th>192.0</th>\n",
       "      <td>1698.0</td>\n",
       "      <td>0.0</td>\n",
       "    </tr>\n",
       "    <tr>\n",
       "      <th>Al Harejah General Hospital</th>\n",
       "      <th>534.0</th>\n",
       "      <td>1394.0</td>\n",
       "      <td>0.0</td>\n",
       "    </tr>\n",
       "    <tr>\n",
       "      <th>Al Qahmah Hospital</th>\n",
       "      <th>200.0</th>\n",
       "      <td>1881.0</td>\n",
       "      <td>0.0</td>\n",
       "    </tr>\n",
       "  </tbody>\n",
       "</table>\n",
       "</div>"
      ],
      "text/plain": [
       "                                                              Direct_appt  \\\n",
       "directorate_name      facility_name               facility_cd               \n",
       "AlAhsa Health Cluster Al Jafar Hospital           99.0             3460.0   \n",
       "                      Madinet Al-Oyoun Hospital   100.0            3754.0   \n",
       "Asir Health Affairs   Al Barak Hospital           192.0            1698.0   \n",
       "                      Al Harejah General Hospital 534.0            1394.0   \n",
       "                      Al Qahmah Hospital          200.0            1881.0   \n",
       "\n",
       "                                                              Virtu-appt  \n",
       "directorate_name      facility_name               facility_cd             \n",
       "AlAhsa Health Cluster Al Jafar Hospital           99.0               0.0  \n",
       "                      Madinet Al-Oyoun Hospital   100.0              0.0  \n",
       "Asir Health Affairs   Al Barak Hospital           192.0              0.0  \n",
       "                      Al Harejah General Hospital 534.0              0.0  \n",
       "                      Al Qahmah Hospital          200.0              0.0  "
      ]
     },
     "execution_count": 266,
     "metadata": {},
     "output_type": "execute_result"
    }
   ],
   "source": [
    "dfgroup2.head()"
   ]
  },
  {
   "cell_type": "code",
   "execution_count": 276,
   "id": "b85371fa",
   "metadata": {},
   "outputs": [],
   "source": [
    "dfgroup2.to_csv('Result.csv')"
   ]
  },
  {
   "cell_type": "code",
   "execution_count": null,
   "id": "e130c26b",
   "metadata": {},
   "outputs": [],
   "source": [
    "# reading data form wazen file .... "
   ]
  },
  {
   "cell_type": "code",
   "execution_count": 327,
   "id": "fd1c6e04",
   "metadata": {},
   "outputs": [],
   "source": [
    "df = pd.read_csv('result1.csv')"
   ]
  },
  {
   "cell_type": "code",
   "execution_count": 328,
   "id": "6be43af2",
   "metadata": {},
   "outputs": [],
   "source": [
    "df['Percentage'] = df['Virtu-appt'] / df['Direct_appt'] * 100 "
   ]
  },
  {
   "cell_type": "code",
   "execution_count": 329,
   "id": "226acff5",
   "metadata": {},
   "outputs": [
    {
     "data": {
      "text/html": [
       "<div>\n",
       "<style scoped>\n",
       "    .dataframe tbody tr th:only-of-type {\n",
       "        vertical-align: middle;\n",
       "    }\n",
       "\n",
       "    .dataframe tbody tr th {\n",
       "        vertical-align: top;\n",
       "    }\n",
       "\n",
       "    .dataframe thead th {\n",
       "        text-align: right;\n",
       "    }\n",
       "</style>\n",
       "<table border=\"1\" class=\"dataframe\">\n",
       "  <thead>\n",
       "    <tr style=\"text-align: right;\">\n",
       "      <th></th>\n",
       "      <th>directorate_name</th>\n",
       "      <th>facility_name</th>\n",
       "      <th>facility_cd</th>\n",
       "      <th>Direct_appt</th>\n",
       "      <th>Virtu-appt</th>\n",
       "      <th>Percentage</th>\n",
       "    </tr>\n",
       "  </thead>\n",
       "  <tbody>\n",
       "    <tr>\n",
       "      <th>0</th>\n",
       "      <td>AlAhsa Health Cluster</td>\n",
       "      <td>Al Jafar Hospital</td>\n",
       "      <td>99</td>\n",
       "      <td>3460</td>\n",
       "      <td>0</td>\n",
       "      <td>0.0</td>\n",
       "    </tr>\n",
       "    <tr>\n",
       "      <th>1</th>\n",
       "      <td>AlAhsa Health Cluster</td>\n",
       "      <td>Madinet Al-Oyoun Hospital</td>\n",
       "      <td>100</td>\n",
       "      <td>3754</td>\n",
       "      <td>0</td>\n",
       "      <td>0.0</td>\n",
       "    </tr>\n",
       "    <tr>\n",
       "      <th>2</th>\n",
       "      <td>Asir Health Affairs</td>\n",
       "      <td>Al Barak Hospital</td>\n",
       "      <td>192</td>\n",
       "      <td>1698</td>\n",
       "      <td>0</td>\n",
       "      <td>0.0</td>\n",
       "    </tr>\n",
       "    <tr>\n",
       "      <th>3</th>\n",
       "      <td>Asir Health Affairs</td>\n",
       "      <td>Al Harejah General Hospital</td>\n",
       "      <td>534</td>\n",
       "      <td>1394</td>\n",
       "      <td>0</td>\n",
       "      <td>0.0</td>\n",
       "    </tr>\n",
       "    <tr>\n",
       "      <th>4</th>\n",
       "      <td>Asir Health Affairs</td>\n",
       "      <td>Al Qahmah Hospital</td>\n",
       "      <td>200</td>\n",
       "      <td>1881</td>\n",
       "      <td>0</td>\n",
       "      <td>0.0</td>\n",
       "    </tr>\n",
       "  </tbody>\n",
       "</table>\n",
       "</div>"
      ],
      "text/plain": [
       "        directorate_name                facility_name  facility_cd  \\\n",
       "0  AlAhsa Health Cluster            Al Jafar Hospital           99   \n",
       "1  AlAhsa Health Cluster    Madinet Al-Oyoun Hospital          100   \n",
       "2    Asir Health Affairs            Al Barak Hospital          192   \n",
       "3    Asir Health Affairs  Al Harejah General Hospital          534   \n",
       "4    Asir Health Affairs           Al Qahmah Hospital          200   \n",
       "\n",
       "   Direct_appt  Virtu-appt  Percentage  \n",
       "0         3460           0         0.0  \n",
       "1         3754           0         0.0  \n",
       "2         1698           0         0.0  \n",
       "3         1394           0         0.0  \n",
       "4         1881           0         0.0  "
      ]
     },
     "execution_count": 329,
     "metadata": {},
     "output_type": "execute_result"
    }
   ],
   "source": [
    "df.head()"
   ]
  },
  {
   "cell_type": "code",
   "execution_count": 333,
   "id": "5cb87fd2",
   "metadata": {},
   "outputs": [
    {
     "data": {
      "text/html": [
       "<div>\n",
       "<style scoped>\n",
       "    .dataframe tbody tr th:only-of-type {\n",
       "        vertical-align: middle;\n",
       "    }\n",
       "\n",
       "    .dataframe tbody tr th {\n",
       "        vertical-align: top;\n",
       "    }\n",
       "\n",
       "    .dataframe thead th {\n",
       "        text-align: right;\n",
       "    }\n",
       "</style>\n",
       "<table border=\"1\" class=\"dataframe\">\n",
       "  <thead>\n",
       "    <tr style=\"text-align: right;\">\n",
       "      <th></th>\n",
       "      <th>directorate_name</th>\n",
       "      <th>facility_name</th>\n",
       "      <th>facility_cd</th>\n",
       "      <th>Direct_appt</th>\n",
       "      <th>Virtu-appt</th>\n",
       "      <th>Percentage</th>\n",
       "    </tr>\n",
       "  </thead>\n",
       "  <tbody>\n",
       "    <tr>\n",
       "      <th>0</th>\n",
       "      <td>AlAhsa Health Cluster</td>\n",
       "      <td>Al Jafar Hospital</td>\n",
       "      <td>99</td>\n",
       "      <td>3460</td>\n",
       "      <td>0</td>\n",
       "      <td>0.000000</td>\n",
       "    </tr>\n",
       "    <tr>\n",
       "      <th>1</th>\n",
       "      <td>AlAhsa Health Cluster</td>\n",
       "      <td>Madinet Al-Oyoun Hospital</td>\n",
       "      <td>100</td>\n",
       "      <td>3754</td>\n",
       "      <td>0</td>\n",
       "      <td>0.000000</td>\n",
       "    </tr>\n",
       "    <tr>\n",
       "      <th>2</th>\n",
       "      <td>Asir Health Affairs</td>\n",
       "      <td>Al Barak Hospital</td>\n",
       "      <td>192</td>\n",
       "      <td>1698</td>\n",
       "      <td>0</td>\n",
       "      <td>0.000000</td>\n",
       "    </tr>\n",
       "    <tr>\n",
       "      <th>3</th>\n",
       "      <td>Asir Health Affairs</td>\n",
       "      <td>Al Harejah General Hospital</td>\n",
       "      <td>534</td>\n",
       "      <td>1394</td>\n",
       "      <td>0</td>\n",
       "      <td>0.000000</td>\n",
       "    </tr>\n",
       "    <tr>\n",
       "      <th>4</th>\n",
       "      <td>Asir Health Affairs</td>\n",
       "      <td>Al Qahmah Hospital</td>\n",
       "      <td>200</td>\n",
       "      <td>1881</td>\n",
       "      <td>0</td>\n",
       "      <td>0.000000</td>\n",
       "    </tr>\n",
       "    <tr>\n",
       "      <th>5</th>\n",
       "      <td>Asir Health Affairs</td>\n",
       "      <td>Al-Furshah Hospital</td>\n",
       "      <td>201</td>\n",
       "      <td>1314</td>\n",
       "      <td>0</td>\n",
       "      <td>0.000000</td>\n",
       "    </tr>\n",
       "    <tr>\n",
       "      <th>6</th>\n",
       "      <td>Asir Health Affairs</td>\n",
       "      <td>Hospital Alamadh</td>\n",
       "      <td>536</td>\n",
       "      <td>1710</td>\n",
       "      <td>10</td>\n",
       "      <td>0.584795</td>\n",
       "    </tr>\n",
       "    <tr>\n",
       "      <th>7</th>\n",
       "      <td>Asir Health Affairs</td>\n",
       "      <td>Hospital Blhamr</td>\n",
       "      <td>535</td>\n",
       "      <td>1303</td>\n",
       "      <td>0</td>\n",
       "      <td>0.000000</td>\n",
       "    </tr>\n",
       "    <tr>\n",
       "      <th>8</th>\n",
       "      <td>Asir Health Affairs</td>\n",
       "      <td>Tanomeh Hospital</td>\n",
       "      <td>277</td>\n",
       "      <td>1608</td>\n",
       "      <td>0</td>\n",
       "      <td>0.000000</td>\n",
       "    </tr>\n",
       "    <tr>\n",
       "      <th>9</th>\n",
       "      <td>Baha Health Affairs</td>\n",
       "      <td>Al Qura General Hospital</td>\n",
       "      <td>2665</td>\n",
       "      <td>1741</td>\n",
       "      <td>0</td>\n",
       "      <td>0.000000</td>\n",
       "    </tr>\n",
       "    <tr>\n",
       "      <th>10</th>\n",
       "      <td>Baha Health Affairs</td>\n",
       "      <td>Al-Akeek General Hospital</td>\n",
       "      <td>219</td>\n",
       "      <td>2587</td>\n",
       "      <td>0</td>\n",
       "      <td>0.000000</td>\n",
       "    </tr>\n",
       "    <tr>\n",
       "      <th>11</th>\n",
       "      <td>Baha Health Affairs</td>\n",
       "      <td>MandaQ General Hospital</td>\n",
       "      <td>216</td>\n",
       "      <td>2995</td>\n",
       "      <td>0</td>\n",
       "      <td>0.000000</td>\n",
       "    </tr>\n",
       "    <tr>\n",
       "      <th>12</th>\n",
       "      <td>Baha Health Affairs</td>\n",
       "      <td>Quolowah General Hospital</td>\n",
       "      <td>215</td>\n",
       "      <td>3294</td>\n",
       "      <td>0</td>\n",
       "      <td>0.000000</td>\n",
       "    </tr>\n",
       "    <tr>\n",
       "      <th>13</th>\n",
       "      <td>Bisha Health Affairs</td>\n",
       "      <td>Al Bashaer General Hospital</td>\n",
       "      <td>207</td>\n",
       "      <td>845</td>\n",
       "      <td>0</td>\n",
       "      <td>0.000000</td>\n",
       "    </tr>\n",
       "    <tr>\n",
       "      <th>14</th>\n",
       "      <td>Eastern Health Cluster</td>\n",
       "      <td>Abqaiq General Hospital</td>\n",
       "      <td>85</td>\n",
       "      <td>2635</td>\n",
       "      <td>0</td>\n",
       "      <td>0.000000</td>\n",
       "    </tr>\n",
       "    <tr>\n",
       "      <th>15</th>\n",
       "      <td>Eastern Health Cluster</td>\n",
       "      <td>Al Naeriyah Hospital</td>\n",
       "      <td>84</td>\n",
       "      <td>3878</td>\n",
       "      <td>0</td>\n",
       "      <td>0.000000</td>\n",
       "    </tr>\n",
       "    <tr>\n",
       "      <th>16</th>\n",
       "      <td>Eastern Health Cluster</td>\n",
       "      <td>Al Qariya Al Ulya General Hospital</td>\n",
       "      <td>93</td>\n",
       "      <td>1631</td>\n",
       "      <td>0</td>\n",
       "      <td>0.000000</td>\n",
       "    </tr>\n",
       "    <tr>\n",
       "      <th>17</th>\n",
       "      <td>Eastern Health Cluster</td>\n",
       "      <td>Al-Rafee'ah General Hospital</td>\n",
       "      <td>86</td>\n",
       "      <td>1546</td>\n",
       "      <td>0</td>\n",
       "      <td>0.000000</td>\n",
       "    </tr>\n",
       "    <tr>\n",
       "      <th>18</th>\n",
       "      <td>Eastern Health Cluster</td>\n",
       "      <td>Prince Sultan Hospital-'Areerah</td>\n",
       "      <td>90</td>\n",
       "      <td>1605</td>\n",
       "      <td>0</td>\n",
       "      <td>0.000000</td>\n",
       "    </tr>\n",
       "    <tr>\n",
       "      <th>19</th>\n",
       "      <td>Eastern Health Cluster</td>\n",
       "      <td>Prince Sultan Hospital-Melija</td>\n",
       "      <td>89</td>\n",
       "      <td>2350</td>\n",
       "      <td>0</td>\n",
       "      <td>0.000000</td>\n",
       "    </tr>\n",
       "    <tr>\n",
       "      <th>20</th>\n",
       "      <td>Eastern Health Cluster</td>\n",
       "      <td>Ras Tanura General Hospital</td>\n",
       "      <td>95</td>\n",
       "      <td>4346</td>\n",
       "      <td>0</td>\n",
       "      <td>0.000000</td>\n",
       "    </tr>\n",
       "    <tr>\n",
       "      <th>21</th>\n",
       "      <td>Eastern Health Cluster</td>\n",
       "      <td>Salwa Hospital</td>\n",
       "      <td>104</td>\n",
       "      <td>498</td>\n",
       "      <td>0</td>\n",
       "      <td>0.000000</td>\n",
       "    </tr>\n",
       "    <tr>\n",
       "      <th>22</th>\n",
       "      <td>Hafer AlBatin Health Affairs</td>\n",
       "      <td>Al Quaysooma Hospital</td>\n",
       "      <td>108</td>\n",
       "      <td>1711</td>\n",
       "      <td>0</td>\n",
       "      <td>0.000000</td>\n",
       "    </tr>\n",
       "    <tr>\n",
       "      <th>23</th>\n",
       "      <td>Hafer AlBatin Health Affairs</td>\n",
       "      <td>Al Saeera Hospital</td>\n",
       "      <td>109</td>\n",
       "      <td>273</td>\n",
       "      <td>0</td>\n",
       "      <td>0.000000</td>\n",
       "    </tr>\n",
       "    <tr>\n",
       "      <th>24</th>\n",
       "      <td>Hail Health Cluster</td>\n",
       "      <td>Al Ghazaleh Hospital</td>\n",
       "      <td>168</td>\n",
       "      <td>682</td>\n",
       "      <td>0</td>\n",
       "      <td>0.000000</td>\n",
       "    </tr>\n",
       "    <tr>\n",
       "      <th>25</th>\n",
       "      <td>Hail Health Cluster</td>\n",
       "      <td>Al Salimy Hospital</td>\n",
       "      <td>162</td>\n",
       "      <td>886</td>\n",
       "      <td>0</td>\n",
       "      <td>0.000000</td>\n",
       "    </tr>\n",
       "    <tr>\n",
       "      <th>26</th>\n",
       "      <td>Hail Health Cluster</td>\n",
       "      <td>Al Shamlly Hospital</td>\n",
       "      <td>163</td>\n",
       "      <td>889</td>\n",
       "      <td>0</td>\n",
       "      <td>0.000000</td>\n",
       "    </tr>\n",
       "    <tr>\n",
       "      <th>27</th>\n",
       "      <td>Hail Health Cluster</td>\n",
       "      <td>Al-Shanan Hospital</td>\n",
       "      <td>248</td>\n",
       "      <td>1324</td>\n",
       "      <td>0</td>\n",
       "      <td>0.000000</td>\n",
       "    </tr>\n",
       "    <tr>\n",
       "      <th>28</th>\n",
       "      <td>Hail Health Cluster</td>\n",
       "      <td>Alhaet General Hospital</td>\n",
       "      <td>662</td>\n",
       "      <td>3098</td>\n",
       "      <td>0</td>\n",
       "      <td>0.000000</td>\n",
       "    </tr>\n",
       "    <tr>\n",
       "      <th>29</th>\n",
       "      <td>Hail Health Cluster</td>\n",
       "      <td>Baqaa General Hospital</td>\n",
       "      <td>165</td>\n",
       "      <td>2940</td>\n",
       "      <td>0</td>\n",
       "      <td>0.000000</td>\n",
       "    </tr>\n",
       "    <tr>\n",
       "      <th>30</th>\n",
       "      <td>Hail Health Cluster</td>\n",
       "      <td>Mawqaq Hospital</td>\n",
       "      <td>164</td>\n",
       "      <td>1246</td>\n",
       "      <td>0</td>\n",
       "      <td>0.000000</td>\n",
       "    </tr>\n",
       "    <tr>\n",
       "      <th>31</th>\n",
       "      <td>Hail Health Cluster</td>\n",
       "      <td>Sameeraa Hospital</td>\n",
       "      <td>166</td>\n",
       "      <td>552</td>\n",
       "      <td>0</td>\n",
       "      <td>0.000000</td>\n",
       "    </tr>\n",
       "    <tr>\n",
       "      <th>32</th>\n",
       "      <td>Jazan Health Affairs</td>\n",
       "      <td>Ahad Al Mosaraha Hospital</td>\n",
       "      <td>233</td>\n",
       "      <td>3073</td>\n",
       "      <td>567</td>\n",
       "      <td>18.451025</td>\n",
       "    </tr>\n",
       "    <tr>\n",
       "      <th>33</th>\n",
       "      <td>Jazan Health Affairs</td>\n",
       "      <td>Al Aardah hospital</td>\n",
       "      <td>230</td>\n",
       "      <td>3645</td>\n",
       "      <td>852</td>\n",
       "      <td>23.374486</td>\n",
       "    </tr>\n",
       "    <tr>\n",
       "      <th>34</th>\n",
       "      <td>Jazan Health Affairs</td>\n",
       "      <td>Al Darb General Hospital</td>\n",
       "      <td>231</td>\n",
       "      <td>4959</td>\n",
       "      <td>148</td>\n",
       "      <td>2.984473</td>\n",
       "    </tr>\n",
       "    <tr>\n",
       "      <th>35</th>\n",
       "      <td>Jazan Health Affairs</td>\n",
       "      <td>Al Mawsim Hospital</td>\n",
       "      <td>234</td>\n",
       "      <td>2114</td>\n",
       "      <td>660</td>\n",
       "      <td>31.220435</td>\n",
       "    </tr>\n",
       "    <tr>\n",
       "      <th>36</th>\n",
       "      <td>Jazan Health Affairs</td>\n",
       "      <td>Al Tawaal General Hospital</td>\n",
       "      <td>232</td>\n",
       "      <td>2904</td>\n",
       "      <td>576</td>\n",
       "      <td>19.834711</td>\n",
       "    </tr>\n",
       "    <tr>\n",
       "      <th>37</th>\n",
       "      <td>Jazan Health Affairs</td>\n",
       "      <td>AlHarth Hospital</td>\n",
       "      <td>2579</td>\n",
       "      <td>1916</td>\n",
       "      <td>754</td>\n",
       "      <td>39.352818</td>\n",
       "    </tr>\n",
       "    <tr>\n",
       "      <th>38</th>\n",
       "      <td>Jazan Health Affairs</td>\n",
       "      <td>Bani Malik General Hospital</td>\n",
       "      <td>235</td>\n",
       "      <td>4030</td>\n",
       "      <td>972</td>\n",
       "      <td>24.119107</td>\n",
       "    </tr>\n",
       "    <tr>\n",
       "      <th>39</th>\n",
       "      <td>Jazan Health Affairs</td>\n",
       "      <td>Damad General Hospital</td>\n",
       "      <td>236</td>\n",
       "      <td>3916</td>\n",
       "      <td>591</td>\n",
       "      <td>15.091931</td>\n",
       "    </tr>\n",
       "  </tbody>\n",
       "</table>\n",
       "</div>"
      ],
      "text/plain": [
       "                directorate_name                       facility_name  \\\n",
       "0          AlAhsa Health Cluster                   Al Jafar Hospital   \n",
       "1          AlAhsa Health Cluster           Madinet Al-Oyoun Hospital   \n",
       "2            Asir Health Affairs                   Al Barak Hospital   \n",
       "3            Asir Health Affairs         Al Harejah General Hospital   \n",
       "4            Asir Health Affairs                  Al Qahmah Hospital   \n",
       "5            Asir Health Affairs                 Al-Furshah Hospital   \n",
       "6            Asir Health Affairs                    Hospital Alamadh   \n",
       "7            Asir Health Affairs                     Hospital Blhamr   \n",
       "8            Asir Health Affairs                    Tanomeh Hospital   \n",
       "9            Baha Health Affairs            Al Qura General Hospital   \n",
       "10           Baha Health Affairs           Al-Akeek General Hospital   \n",
       "11           Baha Health Affairs             MandaQ General Hospital   \n",
       "12           Baha Health Affairs           Quolowah General Hospital   \n",
       "13          Bisha Health Affairs         Al Bashaer General Hospital   \n",
       "14        Eastern Health Cluster             Abqaiq General Hospital   \n",
       "15        Eastern Health Cluster                Al Naeriyah Hospital   \n",
       "16        Eastern Health Cluster  Al Qariya Al Ulya General Hospital   \n",
       "17        Eastern Health Cluster        Al-Rafee'ah General Hospital   \n",
       "18        Eastern Health Cluster     Prince Sultan Hospital-'Areerah   \n",
       "19        Eastern Health Cluster       Prince Sultan Hospital-Melija   \n",
       "20        Eastern Health Cluster         Ras Tanura General Hospital   \n",
       "21        Eastern Health Cluster                      Salwa Hospital   \n",
       "22  Hafer AlBatin Health Affairs               Al Quaysooma Hospital   \n",
       "23  Hafer AlBatin Health Affairs                  Al Saeera Hospital   \n",
       "24           Hail Health Cluster                Al Ghazaleh Hospital   \n",
       "25           Hail Health Cluster                  Al Salimy Hospital   \n",
       "26           Hail Health Cluster                 Al Shamlly Hospital   \n",
       "27           Hail Health Cluster                  Al-Shanan Hospital   \n",
       "28           Hail Health Cluster             Alhaet General Hospital   \n",
       "29           Hail Health Cluster              Baqaa General Hospital   \n",
       "30           Hail Health Cluster                     Mawqaq Hospital   \n",
       "31           Hail Health Cluster                   Sameeraa Hospital   \n",
       "32          Jazan Health Affairs           Ahad Al Mosaraha Hospital   \n",
       "33          Jazan Health Affairs                  Al Aardah hospital   \n",
       "34          Jazan Health Affairs            Al Darb General Hospital   \n",
       "35          Jazan Health Affairs                  Al Mawsim Hospital   \n",
       "36          Jazan Health Affairs          Al Tawaal General Hospital   \n",
       "37          Jazan Health Affairs                    AlHarth Hospital   \n",
       "38          Jazan Health Affairs         Bani Malik General Hospital   \n",
       "39          Jazan Health Affairs              Damad General Hospital   \n",
       "\n",
       "    facility_cd  Direct_appt  Virtu-appt  Percentage  \n",
       "0            99         3460           0    0.000000  \n",
       "1           100         3754           0    0.000000  \n",
       "2           192         1698           0    0.000000  \n",
       "3           534         1394           0    0.000000  \n",
       "4           200         1881           0    0.000000  \n",
       "5           201         1314           0    0.000000  \n",
       "6           536         1710          10    0.584795  \n",
       "7           535         1303           0    0.000000  \n",
       "8           277         1608           0    0.000000  \n",
       "9          2665         1741           0    0.000000  \n",
       "10          219         2587           0    0.000000  \n",
       "11          216         2995           0    0.000000  \n",
       "12          215         3294           0    0.000000  \n",
       "13          207          845           0    0.000000  \n",
       "14           85         2635           0    0.000000  \n",
       "15           84         3878           0    0.000000  \n",
       "16           93         1631           0    0.000000  \n",
       "17           86         1546           0    0.000000  \n",
       "18           90         1605           0    0.000000  \n",
       "19           89         2350           0    0.000000  \n",
       "20           95         4346           0    0.000000  \n",
       "21          104          498           0    0.000000  \n",
       "22          108         1711           0    0.000000  \n",
       "23          109          273           0    0.000000  \n",
       "24          168          682           0    0.000000  \n",
       "25          162          886           0    0.000000  \n",
       "26          163          889           0    0.000000  \n",
       "27          248         1324           0    0.000000  \n",
       "28          662         3098           0    0.000000  \n",
       "29          165         2940           0    0.000000  \n",
       "30          164         1246           0    0.000000  \n",
       "31          166          552           0    0.000000  \n",
       "32          233         3073         567   18.451025  \n",
       "33          230         3645         852   23.374486  \n",
       "34          231         4959         148    2.984473  \n",
       "35          234         2114         660   31.220435  \n",
       "36          232         2904         576   19.834711  \n",
       "37         2579         1916         754   39.352818  \n",
       "38          235         4030         972   24.119107  \n",
       "39          236         3916         591   15.091931  "
      ]
     },
     "execution_count": 333,
     "metadata": {},
     "output_type": "execute_result"
    }
   ],
   "source": [
    "df.head(40)"
   ]
  },
  {
   "cell_type": "code",
   "execution_count": 335,
   "id": "98196ddf",
   "metadata": {},
   "outputs": [
    {
     "data": {
      "text/plain": [
       "(108,)"
      ]
     },
     "execution_count": 335,
     "metadata": {},
     "output_type": "execute_result"
    }
   ],
   "source": [
    "df.directorate_name.shape()"
   ]
  },
  {
   "cell_type": "code",
   "execution_count": 332,
   "id": "586dd79f",
   "metadata": {},
   "outputs": [
    {
     "data": {
      "text/html": [
       "<style  type=\"text/css\" >\n",
       "#T_19ba8_row0_col5,#T_19ba8_row1_col5,#T_19ba8_row2_col5,#T_19ba8_row3_col5,#T_19ba8_row4_col5,#T_19ba8_row5_col5,#T_19ba8_row6_col5,#T_19ba8_row7_col5,#T_19ba8_row8_col5,#T_19ba8_row9_col5,#T_19ba8_row10_col5,#T_19ba8_row11_col5,#T_19ba8_row12_col5,#T_19ba8_row13_col5,#T_19ba8_row14_col5,#T_19ba8_row15_col5,#T_19ba8_row16_col5,#T_19ba8_row17_col5,#T_19ba8_row18_col5,#T_19ba8_row19_col5,#T_19ba8_row20_col5,#T_19ba8_row21_col5,#T_19ba8_row22_col5,#T_19ba8_row23_col5,#T_19ba8_row24_col5,#T_19ba8_row25_col5,#T_19ba8_row26_col5,#T_19ba8_row27_col5,#T_19ba8_row28_col5,#T_19ba8_row29_col5,#T_19ba8_row30_col5,#T_19ba8_row31_col5,#T_19ba8_row34_col5,#T_19ba8_row43_col5,#T_19ba8_row44_col5,#T_19ba8_row45_col5,#T_19ba8_row46_col5,#T_19ba8_row47_col5,#T_19ba8_row48_col5,#T_19ba8_row49_col5,#T_19ba8_row50_col5,#T_19ba8_row51_col5,#T_19ba8_row52_col5,#T_19ba8_row53_col5,#T_19ba8_row54_col5,#T_19ba8_row55_col5,#T_19ba8_row56_col5,#T_19ba8_row57_col5,#T_19ba8_row58_col5,#T_19ba8_row59_col5,#T_19ba8_row60_col5,#T_19ba8_row61_col5,#T_19ba8_row63_col5,#T_19ba8_row64_col5,#T_19ba8_row65_col5,#T_19ba8_row67_col5,#T_19ba8_row68_col5,#T_19ba8_row69_col5,#T_19ba8_row70_col5,#T_19ba8_row71_col5,#T_19ba8_row72_col5,#T_19ba8_row73_col5,#T_19ba8_row74_col5,#T_19ba8_row75_col5,#T_19ba8_row76_col5,#T_19ba8_row77_col5,#T_19ba8_row78_col5,#T_19ba8_row79_col5,#T_19ba8_row80_col5,#T_19ba8_row81_col5,#T_19ba8_row82_col5,#T_19ba8_row83_col5,#T_19ba8_row84_col5,#T_19ba8_row85_col5,#T_19ba8_row87_col5,#T_19ba8_row88_col5,#T_19ba8_row89_col5,#T_19ba8_row90_col5,#T_19ba8_row91_col5,#T_19ba8_row92_col5,#T_19ba8_row93_col5,#T_19ba8_row94_col5,#T_19ba8_row95_col5,#T_19ba8_row96_col5,#T_19ba8_row97_col5,#T_19ba8_row98_col5,#T_19ba8_row99_col5,#T_19ba8_row100_col5,#T_19ba8_row101_col5,#T_19ba8_row102_col5,#T_19ba8_row103_col5,#T_19ba8_row104_col5,#T_19ba8_row105_col5,#T_19ba8_row106_col5,#T_19ba8_row107_col5{\n",
       "            color:  red;\n",
       "        }#T_19ba8_row32_col5,#T_19ba8_row33_col5,#T_19ba8_row35_col5,#T_19ba8_row36_col5,#T_19ba8_row37_col5,#T_19ba8_row38_col5,#T_19ba8_row39_col5,#T_19ba8_row40_col5,#T_19ba8_row41_col5,#T_19ba8_row42_col5,#T_19ba8_row62_col5,#T_19ba8_row66_col5{\n",
       "            color:  Yellow;\n",
       "        }#T_19ba8_row86_col5{\n",
       "            color:  Green;\n",
       "        }</style><table id=\"T_19ba8_\" ><thead>    <tr>        <th class=\"blank level0\" ></th>        <th class=\"col_heading level0 col0\" >directorate_name</th>        <th class=\"col_heading level0 col1\" >facility_name</th>        <th class=\"col_heading level0 col2\" >facility_cd</th>        <th class=\"col_heading level0 col3\" >Direct_appt</th>        <th class=\"col_heading level0 col4\" >Virtu-appt</th>        <th class=\"col_heading level0 col5\" >Percentage</th>    </tr></thead><tbody>\n",
       "                <tr>\n",
       "                        <th id=\"T_19ba8_level0_row0\" class=\"row_heading level0 row0\" >0</th>\n",
       "                        <td id=\"T_19ba8_row0_col0\" class=\"data row0 col0\" >AlAhsa Health Cluster</td>\n",
       "                        <td id=\"T_19ba8_row0_col1\" class=\"data row0 col1\" >Al Jafar Hospital</td>\n",
       "                        <td id=\"T_19ba8_row0_col2\" class=\"data row0 col2\" >99</td>\n",
       "                        <td id=\"T_19ba8_row0_col3\" class=\"data row0 col3\" >3460</td>\n",
       "                        <td id=\"T_19ba8_row0_col4\" class=\"data row0 col4\" >0</td>\n",
       "                        <td id=\"T_19ba8_row0_col5\" class=\"data row0 col5\" >0.000000</td>\n",
       "            </tr>\n",
       "            <tr>\n",
       "                        <th id=\"T_19ba8_level0_row1\" class=\"row_heading level0 row1\" >1</th>\n",
       "                        <td id=\"T_19ba8_row1_col0\" class=\"data row1 col0\" >AlAhsa Health Cluster</td>\n",
       "                        <td id=\"T_19ba8_row1_col1\" class=\"data row1 col1\" >Madinet Al-Oyoun Hospital</td>\n",
       "                        <td id=\"T_19ba8_row1_col2\" class=\"data row1 col2\" >100</td>\n",
       "                        <td id=\"T_19ba8_row1_col3\" class=\"data row1 col3\" >3754</td>\n",
       "                        <td id=\"T_19ba8_row1_col4\" class=\"data row1 col4\" >0</td>\n",
       "                        <td id=\"T_19ba8_row1_col5\" class=\"data row1 col5\" >0.000000</td>\n",
       "            </tr>\n",
       "            <tr>\n",
       "                        <th id=\"T_19ba8_level0_row2\" class=\"row_heading level0 row2\" >2</th>\n",
       "                        <td id=\"T_19ba8_row2_col0\" class=\"data row2 col0\" >Asir Health Affairs</td>\n",
       "                        <td id=\"T_19ba8_row2_col1\" class=\"data row2 col1\" >Al Barak Hospital</td>\n",
       "                        <td id=\"T_19ba8_row2_col2\" class=\"data row2 col2\" >192</td>\n",
       "                        <td id=\"T_19ba8_row2_col3\" class=\"data row2 col3\" >1698</td>\n",
       "                        <td id=\"T_19ba8_row2_col4\" class=\"data row2 col4\" >0</td>\n",
       "                        <td id=\"T_19ba8_row2_col5\" class=\"data row2 col5\" >0.000000</td>\n",
       "            </tr>\n",
       "            <tr>\n",
       "                        <th id=\"T_19ba8_level0_row3\" class=\"row_heading level0 row3\" >3</th>\n",
       "                        <td id=\"T_19ba8_row3_col0\" class=\"data row3 col0\" >Asir Health Affairs</td>\n",
       "                        <td id=\"T_19ba8_row3_col1\" class=\"data row3 col1\" >Al Harejah General Hospital</td>\n",
       "                        <td id=\"T_19ba8_row3_col2\" class=\"data row3 col2\" >534</td>\n",
       "                        <td id=\"T_19ba8_row3_col3\" class=\"data row3 col3\" >1394</td>\n",
       "                        <td id=\"T_19ba8_row3_col4\" class=\"data row3 col4\" >0</td>\n",
       "                        <td id=\"T_19ba8_row3_col5\" class=\"data row3 col5\" >0.000000</td>\n",
       "            </tr>\n",
       "            <tr>\n",
       "                        <th id=\"T_19ba8_level0_row4\" class=\"row_heading level0 row4\" >4</th>\n",
       "                        <td id=\"T_19ba8_row4_col0\" class=\"data row4 col0\" >Asir Health Affairs</td>\n",
       "                        <td id=\"T_19ba8_row4_col1\" class=\"data row4 col1\" >Al Qahmah Hospital</td>\n",
       "                        <td id=\"T_19ba8_row4_col2\" class=\"data row4 col2\" >200</td>\n",
       "                        <td id=\"T_19ba8_row4_col3\" class=\"data row4 col3\" >1881</td>\n",
       "                        <td id=\"T_19ba8_row4_col4\" class=\"data row4 col4\" >0</td>\n",
       "                        <td id=\"T_19ba8_row4_col5\" class=\"data row4 col5\" >0.000000</td>\n",
       "            </tr>\n",
       "            <tr>\n",
       "                        <th id=\"T_19ba8_level0_row5\" class=\"row_heading level0 row5\" >5</th>\n",
       "                        <td id=\"T_19ba8_row5_col0\" class=\"data row5 col0\" >Asir Health Affairs</td>\n",
       "                        <td id=\"T_19ba8_row5_col1\" class=\"data row5 col1\" >Al-Furshah Hospital</td>\n",
       "                        <td id=\"T_19ba8_row5_col2\" class=\"data row5 col2\" >201</td>\n",
       "                        <td id=\"T_19ba8_row5_col3\" class=\"data row5 col3\" >1314</td>\n",
       "                        <td id=\"T_19ba8_row5_col4\" class=\"data row5 col4\" >0</td>\n",
       "                        <td id=\"T_19ba8_row5_col5\" class=\"data row5 col5\" >0.000000</td>\n",
       "            </tr>\n",
       "            <tr>\n",
       "                        <th id=\"T_19ba8_level0_row6\" class=\"row_heading level0 row6\" >6</th>\n",
       "                        <td id=\"T_19ba8_row6_col0\" class=\"data row6 col0\" >Asir Health Affairs</td>\n",
       "                        <td id=\"T_19ba8_row6_col1\" class=\"data row6 col1\" >Hospital Alamadh</td>\n",
       "                        <td id=\"T_19ba8_row6_col2\" class=\"data row6 col2\" >536</td>\n",
       "                        <td id=\"T_19ba8_row6_col3\" class=\"data row6 col3\" >1710</td>\n",
       "                        <td id=\"T_19ba8_row6_col4\" class=\"data row6 col4\" >10</td>\n",
       "                        <td id=\"T_19ba8_row6_col5\" class=\"data row6 col5\" >0.584795</td>\n",
       "            </tr>\n",
       "            <tr>\n",
       "                        <th id=\"T_19ba8_level0_row7\" class=\"row_heading level0 row7\" >7</th>\n",
       "                        <td id=\"T_19ba8_row7_col0\" class=\"data row7 col0\" >Asir Health Affairs</td>\n",
       "                        <td id=\"T_19ba8_row7_col1\" class=\"data row7 col1\" >Hospital Blhamr</td>\n",
       "                        <td id=\"T_19ba8_row7_col2\" class=\"data row7 col2\" >535</td>\n",
       "                        <td id=\"T_19ba8_row7_col3\" class=\"data row7 col3\" >1303</td>\n",
       "                        <td id=\"T_19ba8_row7_col4\" class=\"data row7 col4\" >0</td>\n",
       "                        <td id=\"T_19ba8_row7_col5\" class=\"data row7 col5\" >0.000000</td>\n",
       "            </tr>\n",
       "            <tr>\n",
       "                        <th id=\"T_19ba8_level0_row8\" class=\"row_heading level0 row8\" >8</th>\n",
       "                        <td id=\"T_19ba8_row8_col0\" class=\"data row8 col0\" >Asir Health Affairs</td>\n",
       "                        <td id=\"T_19ba8_row8_col1\" class=\"data row8 col1\" >Tanomeh Hospital</td>\n",
       "                        <td id=\"T_19ba8_row8_col2\" class=\"data row8 col2\" >277</td>\n",
       "                        <td id=\"T_19ba8_row8_col3\" class=\"data row8 col3\" >1608</td>\n",
       "                        <td id=\"T_19ba8_row8_col4\" class=\"data row8 col4\" >0</td>\n",
       "                        <td id=\"T_19ba8_row8_col5\" class=\"data row8 col5\" >0.000000</td>\n",
       "            </tr>\n",
       "            <tr>\n",
       "                        <th id=\"T_19ba8_level0_row9\" class=\"row_heading level0 row9\" >9</th>\n",
       "                        <td id=\"T_19ba8_row9_col0\" class=\"data row9 col0\" >Baha Health Affairs</td>\n",
       "                        <td id=\"T_19ba8_row9_col1\" class=\"data row9 col1\" >Al Qura General Hospital</td>\n",
       "                        <td id=\"T_19ba8_row9_col2\" class=\"data row9 col2\" >2665</td>\n",
       "                        <td id=\"T_19ba8_row9_col3\" class=\"data row9 col3\" >1741</td>\n",
       "                        <td id=\"T_19ba8_row9_col4\" class=\"data row9 col4\" >0</td>\n",
       "                        <td id=\"T_19ba8_row9_col5\" class=\"data row9 col5\" >0.000000</td>\n",
       "            </tr>\n",
       "            <tr>\n",
       "                        <th id=\"T_19ba8_level0_row10\" class=\"row_heading level0 row10\" >10</th>\n",
       "                        <td id=\"T_19ba8_row10_col0\" class=\"data row10 col0\" >Baha Health Affairs</td>\n",
       "                        <td id=\"T_19ba8_row10_col1\" class=\"data row10 col1\" >Al-Akeek General Hospital</td>\n",
       "                        <td id=\"T_19ba8_row10_col2\" class=\"data row10 col2\" >219</td>\n",
       "                        <td id=\"T_19ba8_row10_col3\" class=\"data row10 col3\" >2587</td>\n",
       "                        <td id=\"T_19ba8_row10_col4\" class=\"data row10 col4\" >0</td>\n",
       "                        <td id=\"T_19ba8_row10_col5\" class=\"data row10 col5\" >0.000000</td>\n",
       "            </tr>\n",
       "            <tr>\n",
       "                        <th id=\"T_19ba8_level0_row11\" class=\"row_heading level0 row11\" >11</th>\n",
       "                        <td id=\"T_19ba8_row11_col0\" class=\"data row11 col0\" >Baha Health Affairs</td>\n",
       "                        <td id=\"T_19ba8_row11_col1\" class=\"data row11 col1\" >MandaQ General Hospital</td>\n",
       "                        <td id=\"T_19ba8_row11_col2\" class=\"data row11 col2\" >216</td>\n",
       "                        <td id=\"T_19ba8_row11_col3\" class=\"data row11 col3\" >2995</td>\n",
       "                        <td id=\"T_19ba8_row11_col4\" class=\"data row11 col4\" >0</td>\n",
       "                        <td id=\"T_19ba8_row11_col5\" class=\"data row11 col5\" >0.000000</td>\n",
       "            </tr>\n",
       "            <tr>\n",
       "                        <th id=\"T_19ba8_level0_row12\" class=\"row_heading level0 row12\" >12</th>\n",
       "                        <td id=\"T_19ba8_row12_col0\" class=\"data row12 col0\" >Baha Health Affairs</td>\n",
       "                        <td id=\"T_19ba8_row12_col1\" class=\"data row12 col1\" >Quolowah General Hospital</td>\n",
       "                        <td id=\"T_19ba8_row12_col2\" class=\"data row12 col2\" >215</td>\n",
       "                        <td id=\"T_19ba8_row12_col3\" class=\"data row12 col3\" >3294</td>\n",
       "                        <td id=\"T_19ba8_row12_col4\" class=\"data row12 col4\" >0</td>\n",
       "                        <td id=\"T_19ba8_row12_col5\" class=\"data row12 col5\" >0.000000</td>\n",
       "            </tr>\n",
       "            <tr>\n",
       "                        <th id=\"T_19ba8_level0_row13\" class=\"row_heading level0 row13\" >13</th>\n",
       "                        <td id=\"T_19ba8_row13_col0\" class=\"data row13 col0\" >Bisha Health Affairs</td>\n",
       "                        <td id=\"T_19ba8_row13_col1\" class=\"data row13 col1\" >Al Bashaer General Hospital</td>\n",
       "                        <td id=\"T_19ba8_row13_col2\" class=\"data row13 col2\" >207</td>\n",
       "                        <td id=\"T_19ba8_row13_col3\" class=\"data row13 col3\" >845</td>\n",
       "                        <td id=\"T_19ba8_row13_col4\" class=\"data row13 col4\" >0</td>\n",
       "                        <td id=\"T_19ba8_row13_col5\" class=\"data row13 col5\" >0.000000</td>\n",
       "            </tr>\n",
       "            <tr>\n",
       "                        <th id=\"T_19ba8_level0_row14\" class=\"row_heading level0 row14\" >14</th>\n",
       "                        <td id=\"T_19ba8_row14_col0\" class=\"data row14 col0\" >Eastern Health Cluster</td>\n",
       "                        <td id=\"T_19ba8_row14_col1\" class=\"data row14 col1\" >Abqaiq General Hospital</td>\n",
       "                        <td id=\"T_19ba8_row14_col2\" class=\"data row14 col2\" >85</td>\n",
       "                        <td id=\"T_19ba8_row14_col3\" class=\"data row14 col3\" >2635</td>\n",
       "                        <td id=\"T_19ba8_row14_col4\" class=\"data row14 col4\" >0</td>\n",
       "                        <td id=\"T_19ba8_row14_col5\" class=\"data row14 col5\" >0.000000</td>\n",
       "            </tr>\n",
       "            <tr>\n",
       "                        <th id=\"T_19ba8_level0_row15\" class=\"row_heading level0 row15\" >15</th>\n",
       "                        <td id=\"T_19ba8_row15_col0\" class=\"data row15 col0\" >Eastern Health Cluster</td>\n",
       "                        <td id=\"T_19ba8_row15_col1\" class=\"data row15 col1\" >Al Naeriyah Hospital</td>\n",
       "                        <td id=\"T_19ba8_row15_col2\" class=\"data row15 col2\" >84</td>\n",
       "                        <td id=\"T_19ba8_row15_col3\" class=\"data row15 col3\" >3878</td>\n",
       "                        <td id=\"T_19ba8_row15_col4\" class=\"data row15 col4\" >0</td>\n",
       "                        <td id=\"T_19ba8_row15_col5\" class=\"data row15 col5\" >0.000000</td>\n",
       "            </tr>\n",
       "            <tr>\n",
       "                        <th id=\"T_19ba8_level0_row16\" class=\"row_heading level0 row16\" >16</th>\n",
       "                        <td id=\"T_19ba8_row16_col0\" class=\"data row16 col0\" >Eastern Health Cluster</td>\n",
       "                        <td id=\"T_19ba8_row16_col1\" class=\"data row16 col1\" >Al Qariya Al Ulya General Hospital</td>\n",
       "                        <td id=\"T_19ba8_row16_col2\" class=\"data row16 col2\" >93</td>\n",
       "                        <td id=\"T_19ba8_row16_col3\" class=\"data row16 col3\" >1631</td>\n",
       "                        <td id=\"T_19ba8_row16_col4\" class=\"data row16 col4\" >0</td>\n",
       "                        <td id=\"T_19ba8_row16_col5\" class=\"data row16 col5\" >0.000000</td>\n",
       "            </tr>\n",
       "            <tr>\n",
       "                        <th id=\"T_19ba8_level0_row17\" class=\"row_heading level0 row17\" >17</th>\n",
       "                        <td id=\"T_19ba8_row17_col0\" class=\"data row17 col0\" >Eastern Health Cluster</td>\n",
       "                        <td id=\"T_19ba8_row17_col1\" class=\"data row17 col1\" >Al-Rafee'ah General Hospital</td>\n",
       "                        <td id=\"T_19ba8_row17_col2\" class=\"data row17 col2\" >86</td>\n",
       "                        <td id=\"T_19ba8_row17_col3\" class=\"data row17 col3\" >1546</td>\n",
       "                        <td id=\"T_19ba8_row17_col4\" class=\"data row17 col4\" >0</td>\n",
       "                        <td id=\"T_19ba8_row17_col5\" class=\"data row17 col5\" >0.000000</td>\n",
       "            </tr>\n",
       "            <tr>\n",
       "                        <th id=\"T_19ba8_level0_row18\" class=\"row_heading level0 row18\" >18</th>\n",
       "                        <td id=\"T_19ba8_row18_col0\" class=\"data row18 col0\" >Eastern Health Cluster</td>\n",
       "                        <td id=\"T_19ba8_row18_col1\" class=\"data row18 col1\" >Prince Sultan Hospital-'Areerah</td>\n",
       "                        <td id=\"T_19ba8_row18_col2\" class=\"data row18 col2\" >90</td>\n",
       "                        <td id=\"T_19ba8_row18_col3\" class=\"data row18 col3\" >1605</td>\n",
       "                        <td id=\"T_19ba8_row18_col4\" class=\"data row18 col4\" >0</td>\n",
       "                        <td id=\"T_19ba8_row18_col5\" class=\"data row18 col5\" >0.000000</td>\n",
       "            </tr>\n",
       "            <tr>\n",
       "                        <th id=\"T_19ba8_level0_row19\" class=\"row_heading level0 row19\" >19</th>\n",
       "                        <td id=\"T_19ba8_row19_col0\" class=\"data row19 col0\" >Eastern Health Cluster</td>\n",
       "                        <td id=\"T_19ba8_row19_col1\" class=\"data row19 col1\" >Prince Sultan Hospital-Melija</td>\n",
       "                        <td id=\"T_19ba8_row19_col2\" class=\"data row19 col2\" >89</td>\n",
       "                        <td id=\"T_19ba8_row19_col3\" class=\"data row19 col3\" >2350</td>\n",
       "                        <td id=\"T_19ba8_row19_col4\" class=\"data row19 col4\" >0</td>\n",
       "                        <td id=\"T_19ba8_row19_col5\" class=\"data row19 col5\" >0.000000</td>\n",
       "            </tr>\n",
       "            <tr>\n",
       "                        <th id=\"T_19ba8_level0_row20\" class=\"row_heading level0 row20\" >20</th>\n",
       "                        <td id=\"T_19ba8_row20_col0\" class=\"data row20 col0\" >Eastern Health Cluster</td>\n",
       "                        <td id=\"T_19ba8_row20_col1\" class=\"data row20 col1\" >Ras Tanura General Hospital</td>\n",
       "                        <td id=\"T_19ba8_row20_col2\" class=\"data row20 col2\" >95</td>\n",
       "                        <td id=\"T_19ba8_row20_col3\" class=\"data row20 col3\" >4346</td>\n",
       "                        <td id=\"T_19ba8_row20_col4\" class=\"data row20 col4\" >0</td>\n",
       "                        <td id=\"T_19ba8_row20_col5\" class=\"data row20 col5\" >0.000000</td>\n",
       "            </tr>\n",
       "            <tr>\n",
       "                        <th id=\"T_19ba8_level0_row21\" class=\"row_heading level0 row21\" >21</th>\n",
       "                        <td id=\"T_19ba8_row21_col0\" class=\"data row21 col0\" >Eastern Health Cluster</td>\n",
       "                        <td id=\"T_19ba8_row21_col1\" class=\"data row21 col1\" >Salwa Hospital</td>\n",
       "                        <td id=\"T_19ba8_row21_col2\" class=\"data row21 col2\" >104</td>\n",
       "                        <td id=\"T_19ba8_row21_col3\" class=\"data row21 col3\" >498</td>\n",
       "                        <td id=\"T_19ba8_row21_col4\" class=\"data row21 col4\" >0</td>\n",
       "                        <td id=\"T_19ba8_row21_col5\" class=\"data row21 col5\" >0.000000</td>\n",
       "            </tr>\n",
       "            <tr>\n",
       "                        <th id=\"T_19ba8_level0_row22\" class=\"row_heading level0 row22\" >22</th>\n",
       "                        <td id=\"T_19ba8_row22_col0\" class=\"data row22 col0\" >Hafer AlBatin Health Affairs</td>\n",
       "                        <td id=\"T_19ba8_row22_col1\" class=\"data row22 col1\" >Al Quaysooma Hospital</td>\n",
       "                        <td id=\"T_19ba8_row22_col2\" class=\"data row22 col2\" >108</td>\n",
       "                        <td id=\"T_19ba8_row22_col3\" class=\"data row22 col3\" >1711</td>\n",
       "                        <td id=\"T_19ba8_row22_col4\" class=\"data row22 col4\" >0</td>\n",
       "                        <td id=\"T_19ba8_row22_col5\" class=\"data row22 col5\" >0.000000</td>\n",
       "            </tr>\n",
       "            <tr>\n",
       "                        <th id=\"T_19ba8_level0_row23\" class=\"row_heading level0 row23\" >23</th>\n",
       "                        <td id=\"T_19ba8_row23_col0\" class=\"data row23 col0\" >Hafer AlBatin Health Affairs</td>\n",
       "                        <td id=\"T_19ba8_row23_col1\" class=\"data row23 col1\" >Al Saeera Hospital</td>\n",
       "                        <td id=\"T_19ba8_row23_col2\" class=\"data row23 col2\" >109</td>\n",
       "                        <td id=\"T_19ba8_row23_col3\" class=\"data row23 col3\" >273</td>\n",
       "                        <td id=\"T_19ba8_row23_col4\" class=\"data row23 col4\" >0</td>\n",
       "                        <td id=\"T_19ba8_row23_col5\" class=\"data row23 col5\" >0.000000</td>\n",
       "            </tr>\n",
       "            <tr>\n",
       "                        <th id=\"T_19ba8_level0_row24\" class=\"row_heading level0 row24\" >24</th>\n",
       "                        <td id=\"T_19ba8_row24_col0\" class=\"data row24 col0\" >Hail Health Cluster</td>\n",
       "                        <td id=\"T_19ba8_row24_col1\" class=\"data row24 col1\" >Al Ghazaleh Hospital</td>\n",
       "                        <td id=\"T_19ba8_row24_col2\" class=\"data row24 col2\" >168</td>\n",
       "                        <td id=\"T_19ba8_row24_col3\" class=\"data row24 col3\" >682</td>\n",
       "                        <td id=\"T_19ba8_row24_col4\" class=\"data row24 col4\" >0</td>\n",
       "                        <td id=\"T_19ba8_row24_col5\" class=\"data row24 col5\" >0.000000</td>\n",
       "            </tr>\n",
       "            <tr>\n",
       "                        <th id=\"T_19ba8_level0_row25\" class=\"row_heading level0 row25\" >25</th>\n",
       "                        <td id=\"T_19ba8_row25_col0\" class=\"data row25 col0\" >Hail Health Cluster</td>\n",
       "                        <td id=\"T_19ba8_row25_col1\" class=\"data row25 col1\" >Al Salimy Hospital</td>\n",
       "                        <td id=\"T_19ba8_row25_col2\" class=\"data row25 col2\" >162</td>\n",
       "                        <td id=\"T_19ba8_row25_col3\" class=\"data row25 col3\" >886</td>\n",
       "                        <td id=\"T_19ba8_row25_col4\" class=\"data row25 col4\" >0</td>\n",
       "                        <td id=\"T_19ba8_row25_col5\" class=\"data row25 col5\" >0.000000</td>\n",
       "            </tr>\n",
       "            <tr>\n",
       "                        <th id=\"T_19ba8_level0_row26\" class=\"row_heading level0 row26\" >26</th>\n",
       "                        <td id=\"T_19ba8_row26_col0\" class=\"data row26 col0\" >Hail Health Cluster</td>\n",
       "                        <td id=\"T_19ba8_row26_col1\" class=\"data row26 col1\" >Al Shamlly Hospital</td>\n",
       "                        <td id=\"T_19ba8_row26_col2\" class=\"data row26 col2\" >163</td>\n",
       "                        <td id=\"T_19ba8_row26_col3\" class=\"data row26 col3\" >889</td>\n",
       "                        <td id=\"T_19ba8_row26_col4\" class=\"data row26 col4\" >0</td>\n",
       "                        <td id=\"T_19ba8_row26_col5\" class=\"data row26 col5\" >0.000000</td>\n",
       "            </tr>\n",
       "            <tr>\n",
       "                        <th id=\"T_19ba8_level0_row27\" class=\"row_heading level0 row27\" >27</th>\n",
       "                        <td id=\"T_19ba8_row27_col0\" class=\"data row27 col0\" >Hail Health Cluster</td>\n",
       "                        <td id=\"T_19ba8_row27_col1\" class=\"data row27 col1\" >Al-Shanan Hospital</td>\n",
       "                        <td id=\"T_19ba8_row27_col2\" class=\"data row27 col2\" >248</td>\n",
       "                        <td id=\"T_19ba8_row27_col3\" class=\"data row27 col3\" >1324</td>\n",
       "                        <td id=\"T_19ba8_row27_col4\" class=\"data row27 col4\" >0</td>\n",
       "                        <td id=\"T_19ba8_row27_col5\" class=\"data row27 col5\" >0.000000</td>\n",
       "            </tr>\n",
       "            <tr>\n",
       "                        <th id=\"T_19ba8_level0_row28\" class=\"row_heading level0 row28\" >28</th>\n",
       "                        <td id=\"T_19ba8_row28_col0\" class=\"data row28 col0\" >Hail Health Cluster</td>\n",
       "                        <td id=\"T_19ba8_row28_col1\" class=\"data row28 col1\" >Alhaet General Hospital</td>\n",
       "                        <td id=\"T_19ba8_row28_col2\" class=\"data row28 col2\" >662</td>\n",
       "                        <td id=\"T_19ba8_row28_col3\" class=\"data row28 col3\" >3098</td>\n",
       "                        <td id=\"T_19ba8_row28_col4\" class=\"data row28 col4\" >0</td>\n",
       "                        <td id=\"T_19ba8_row28_col5\" class=\"data row28 col5\" >0.000000</td>\n",
       "            </tr>\n",
       "            <tr>\n",
       "                        <th id=\"T_19ba8_level0_row29\" class=\"row_heading level0 row29\" >29</th>\n",
       "                        <td id=\"T_19ba8_row29_col0\" class=\"data row29 col0\" >Hail Health Cluster</td>\n",
       "                        <td id=\"T_19ba8_row29_col1\" class=\"data row29 col1\" >Baqaa General Hospital</td>\n",
       "                        <td id=\"T_19ba8_row29_col2\" class=\"data row29 col2\" >165</td>\n",
       "                        <td id=\"T_19ba8_row29_col3\" class=\"data row29 col3\" >2940</td>\n",
       "                        <td id=\"T_19ba8_row29_col4\" class=\"data row29 col4\" >0</td>\n",
       "                        <td id=\"T_19ba8_row29_col5\" class=\"data row29 col5\" >0.000000</td>\n",
       "            </tr>\n",
       "            <tr>\n",
       "                        <th id=\"T_19ba8_level0_row30\" class=\"row_heading level0 row30\" >30</th>\n",
       "                        <td id=\"T_19ba8_row30_col0\" class=\"data row30 col0\" >Hail Health Cluster</td>\n",
       "                        <td id=\"T_19ba8_row30_col1\" class=\"data row30 col1\" >Mawqaq Hospital</td>\n",
       "                        <td id=\"T_19ba8_row30_col2\" class=\"data row30 col2\" >164</td>\n",
       "                        <td id=\"T_19ba8_row30_col3\" class=\"data row30 col3\" >1246</td>\n",
       "                        <td id=\"T_19ba8_row30_col4\" class=\"data row30 col4\" >0</td>\n",
       "                        <td id=\"T_19ba8_row30_col5\" class=\"data row30 col5\" >0.000000</td>\n",
       "            </tr>\n",
       "            <tr>\n",
       "                        <th id=\"T_19ba8_level0_row31\" class=\"row_heading level0 row31\" >31</th>\n",
       "                        <td id=\"T_19ba8_row31_col0\" class=\"data row31 col0\" >Hail Health Cluster</td>\n",
       "                        <td id=\"T_19ba8_row31_col1\" class=\"data row31 col1\" >Sameeraa Hospital</td>\n",
       "                        <td id=\"T_19ba8_row31_col2\" class=\"data row31 col2\" >166</td>\n",
       "                        <td id=\"T_19ba8_row31_col3\" class=\"data row31 col3\" >552</td>\n",
       "                        <td id=\"T_19ba8_row31_col4\" class=\"data row31 col4\" >0</td>\n",
       "                        <td id=\"T_19ba8_row31_col5\" class=\"data row31 col5\" >0.000000</td>\n",
       "            </tr>\n",
       "            <tr>\n",
       "                        <th id=\"T_19ba8_level0_row32\" class=\"row_heading level0 row32\" >32</th>\n",
       "                        <td id=\"T_19ba8_row32_col0\" class=\"data row32 col0\" >Jazan Health Affairs</td>\n",
       "                        <td id=\"T_19ba8_row32_col1\" class=\"data row32 col1\" >Ahad Al Mosaraha Hospital</td>\n",
       "                        <td id=\"T_19ba8_row32_col2\" class=\"data row32 col2\" >233</td>\n",
       "                        <td id=\"T_19ba8_row32_col3\" class=\"data row32 col3\" >3073</td>\n",
       "                        <td id=\"T_19ba8_row32_col4\" class=\"data row32 col4\" >567</td>\n",
       "                        <td id=\"T_19ba8_row32_col5\" class=\"data row32 col5\" >18.451025</td>\n",
       "            </tr>\n",
       "            <tr>\n",
       "                        <th id=\"T_19ba8_level0_row33\" class=\"row_heading level0 row33\" >33</th>\n",
       "                        <td id=\"T_19ba8_row33_col0\" class=\"data row33 col0\" >Jazan Health Affairs</td>\n",
       "                        <td id=\"T_19ba8_row33_col1\" class=\"data row33 col1\" >Al Aardah hospital</td>\n",
       "                        <td id=\"T_19ba8_row33_col2\" class=\"data row33 col2\" >230</td>\n",
       "                        <td id=\"T_19ba8_row33_col3\" class=\"data row33 col3\" >3645</td>\n",
       "                        <td id=\"T_19ba8_row33_col4\" class=\"data row33 col4\" >852</td>\n",
       "                        <td id=\"T_19ba8_row33_col5\" class=\"data row33 col5\" >23.374486</td>\n",
       "            </tr>\n",
       "            <tr>\n",
       "                        <th id=\"T_19ba8_level0_row34\" class=\"row_heading level0 row34\" >34</th>\n",
       "                        <td id=\"T_19ba8_row34_col0\" class=\"data row34 col0\" >Jazan Health Affairs</td>\n",
       "                        <td id=\"T_19ba8_row34_col1\" class=\"data row34 col1\" >Al Darb General Hospital</td>\n",
       "                        <td id=\"T_19ba8_row34_col2\" class=\"data row34 col2\" >231</td>\n",
       "                        <td id=\"T_19ba8_row34_col3\" class=\"data row34 col3\" >4959</td>\n",
       "                        <td id=\"T_19ba8_row34_col4\" class=\"data row34 col4\" >148</td>\n",
       "                        <td id=\"T_19ba8_row34_col5\" class=\"data row34 col5\" >2.984473</td>\n",
       "            </tr>\n",
       "            <tr>\n",
       "                        <th id=\"T_19ba8_level0_row35\" class=\"row_heading level0 row35\" >35</th>\n",
       "                        <td id=\"T_19ba8_row35_col0\" class=\"data row35 col0\" >Jazan Health Affairs</td>\n",
       "                        <td id=\"T_19ba8_row35_col1\" class=\"data row35 col1\" >Al Mawsim Hospital</td>\n",
       "                        <td id=\"T_19ba8_row35_col2\" class=\"data row35 col2\" >234</td>\n",
       "                        <td id=\"T_19ba8_row35_col3\" class=\"data row35 col3\" >2114</td>\n",
       "                        <td id=\"T_19ba8_row35_col4\" class=\"data row35 col4\" >660</td>\n",
       "                        <td id=\"T_19ba8_row35_col5\" class=\"data row35 col5\" >31.220435</td>\n",
       "            </tr>\n",
       "            <tr>\n",
       "                        <th id=\"T_19ba8_level0_row36\" class=\"row_heading level0 row36\" >36</th>\n",
       "                        <td id=\"T_19ba8_row36_col0\" class=\"data row36 col0\" >Jazan Health Affairs</td>\n",
       "                        <td id=\"T_19ba8_row36_col1\" class=\"data row36 col1\" >Al Tawaal General Hospital</td>\n",
       "                        <td id=\"T_19ba8_row36_col2\" class=\"data row36 col2\" >232</td>\n",
       "                        <td id=\"T_19ba8_row36_col3\" class=\"data row36 col3\" >2904</td>\n",
       "                        <td id=\"T_19ba8_row36_col4\" class=\"data row36 col4\" >576</td>\n",
       "                        <td id=\"T_19ba8_row36_col5\" class=\"data row36 col5\" >19.834711</td>\n",
       "            </tr>\n",
       "            <tr>\n",
       "                        <th id=\"T_19ba8_level0_row37\" class=\"row_heading level0 row37\" >37</th>\n",
       "                        <td id=\"T_19ba8_row37_col0\" class=\"data row37 col0\" >Jazan Health Affairs</td>\n",
       "                        <td id=\"T_19ba8_row37_col1\" class=\"data row37 col1\" >AlHarth Hospital</td>\n",
       "                        <td id=\"T_19ba8_row37_col2\" class=\"data row37 col2\" >2579</td>\n",
       "                        <td id=\"T_19ba8_row37_col3\" class=\"data row37 col3\" >1916</td>\n",
       "                        <td id=\"T_19ba8_row37_col4\" class=\"data row37 col4\" >754</td>\n",
       "                        <td id=\"T_19ba8_row37_col5\" class=\"data row37 col5\" >39.352818</td>\n",
       "            </tr>\n",
       "            <tr>\n",
       "                        <th id=\"T_19ba8_level0_row38\" class=\"row_heading level0 row38\" >38</th>\n",
       "                        <td id=\"T_19ba8_row38_col0\" class=\"data row38 col0\" >Jazan Health Affairs</td>\n",
       "                        <td id=\"T_19ba8_row38_col1\" class=\"data row38 col1\" >Bani Malik General Hospital</td>\n",
       "                        <td id=\"T_19ba8_row38_col2\" class=\"data row38 col2\" >235</td>\n",
       "                        <td id=\"T_19ba8_row38_col3\" class=\"data row38 col3\" >4030</td>\n",
       "                        <td id=\"T_19ba8_row38_col4\" class=\"data row38 col4\" >972</td>\n",
       "                        <td id=\"T_19ba8_row38_col5\" class=\"data row38 col5\" >24.119107</td>\n",
       "            </tr>\n",
       "            <tr>\n",
       "                        <th id=\"T_19ba8_level0_row39\" class=\"row_heading level0 row39\" >39</th>\n",
       "                        <td id=\"T_19ba8_row39_col0\" class=\"data row39 col0\" >Jazan Health Affairs</td>\n",
       "                        <td id=\"T_19ba8_row39_col1\" class=\"data row39 col1\" >Damad General Hospital</td>\n",
       "                        <td id=\"T_19ba8_row39_col2\" class=\"data row39 col2\" >236</td>\n",
       "                        <td id=\"T_19ba8_row39_col3\" class=\"data row39 col3\" >3916</td>\n",
       "                        <td id=\"T_19ba8_row39_col4\" class=\"data row39 col4\" >591</td>\n",
       "                        <td id=\"T_19ba8_row39_col5\" class=\"data row39 col5\" >15.091931</td>\n",
       "            </tr>\n",
       "            <tr>\n",
       "                        <th id=\"T_19ba8_level0_row40\" class=\"row_heading level0 row40\" >40</th>\n",
       "                        <td id=\"T_19ba8_row40_col0\" class=\"data row40 col0\" >Jazan Health Affairs</td>\n",
       "                        <td id=\"T_19ba8_row40_col1\" class=\"data row40 col1\" >Fefa General Hospital</td>\n",
       "                        <td id=\"T_19ba8_row40_col2\" class=\"data row40 col2\" >226</td>\n",
       "                        <td id=\"T_19ba8_row40_col3\" class=\"data row40 col3\" >3070</td>\n",
       "                        <td id=\"T_19ba8_row40_col4\" class=\"data row40 col4\" >658</td>\n",
       "                        <td id=\"T_19ba8_row40_col5\" class=\"data row40 col5\" >21.433225</td>\n",
       "            </tr>\n",
       "            <tr>\n",
       "                        <th id=\"T_19ba8_level0_row41\" class=\"row_heading level0 row41\" >41</th>\n",
       "                        <td id=\"T_19ba8_row41_col0\" class=\"data row41 col0\" >Jazan Health Affairs</td>\n",
       "                        <td id=\"T_19ba8_row41_col1\" class=\"data row41 col1\" >Forsan Hospital</td>\n",
       "                        <td id=\"T_19ba8_row41_col2\" class=\"data row41 col2\" >228</td>\n",
       "                        <td id=\"T_19ba8_row41_col3\" class=\"data row41 col3\" >2244</td>\n",
       "                        <td id=\"T_19ba8_row41_col4\" class=\"data row41 col4\" >324</td>\n",
       "                        <td id=\"T_19ba8_row41_col5\" class=\"data row41 col5\" >14.438503</td>\n",
       "            </tr>\n",
       "            <tr>\n",
       "                        <th id=\"T_19ba8_level0_row42\" class=\"row_heading level0 row42\" >42</th>\n",
       "                        <td id=\"T_19ba8_row42_col0\" class=\"data row42 col0\" >Jazan Health Affairs</td>\n",
       "                        <td id=\"T_19ba8_row42_col1\" class=\"data row42 col1\" >RYT Hospital</td>\n",
       "                        <td id=\"T_19ba8_row42_col2\" class=\"data row42 col2\" >263</td>\n",
       "                        <td id=\"T_19ba8_row42_col3\" class=\"data row42 col3\" >795</td>\n",
       "                        <td id=\"T_19ba8_row42_col4\" class=\"data row42 col4\" >291</td>\n",
       "                        <td id=\"T_19ba8_row42_col5\" class=\"data row42 col5\" >36.603774</td>\n",
       "            </tr>\n",
       "            <tr>\n",
       "                        <th id=\"T_19ba8_level0_row43\" class=\"row_heading level0 row43\" >43</th>\n",
       "                        <td id=\"T_19ba8_row43_col0\" class=\"data row43 col0\" >Jazan Health Affairs</td>\n",
       "                        <td id=\"T_19ba8_row43_col1\" class=\"data row43 col1\" >aidabi Hospital</td>\n",
       "                        <td id=\"T_19ba8_row43_col2\" class=\"data row43 col2\" >2768</td>\n",
       "                        <td id=\"T_19ba8_row43_col3\" class=\"data row43 col3\" >3076</td>\n",
       "                        <td id=\"T_19ba8_row43_col4\" class=\"data row43 col4\" >106</td>\n",
       "                        <td id=\"T_19ba8_row43_col5\" class=\"data row43 col5\" >3.446034</td>\n",
       "            </tr>\n",
       "            <tr>\n",
       "                        <th id=\"T_19ba8_level0_row44\" class=\"row_heading level0 row44\" >44</th>\n",
       "                        <td id=\"T_19ba8_row44_col0\" class=\"data row44 col0\" >Jeddah Health Affairs</td>\n",
       "                        <td id=\"T_19ba8_row44_col1\" class=\"data row44 col1\" >Allayth Hospital</td>\n",
       "                        <td id=\"T_19ba8_row44_col2\" class=\"data row44 col2\" >64</td>\n",
       "                        <td id=\"T_19ba8_row44_col3\" class=\"data row44 col3\" >4267</td>\n",
       "                        <td id=\"T_19ba8_row44_col4\" class=\"data row44 col4\" >0</td>\n",
       "                        <td id=\"T_19ba8_row44_col5\" class=\"data row44 col5\" >0.000000</td>\n",
       "            </tr>\n",
       "            <tr>\n",
       "                        <th id=\"T_19ba8_level0_row45\" class=\"row_heading level0 row45\" >45</th>\n",
       "                        <td id=\"T_19ba8_row45_col0\" class=\"data row45 col0\" >Jouf Health Affairs</td>\n",
       "                        <td id=\"T_19ba8_row45_col1\" class=\"data row45 col1\" >Abu Ajram Hospital</td>\n",
       "                        <td id=\"T_19ba8_row45_col2\" class=\"data row45 col2\" >275</td>\n",
       "                        <td id=\"T_19ba8_row45_col3\" class=\"data row45 col3\" >157</td>\n",
       "                        <td id=\"T_19ba8_row45_col4\" class=\"data row45 col4\" >0</td>\n",
       "                        <td id=\"T_19ba8_row45_col5\" class=\"data row45 col5\" >0.000000</td>\n",
       "            </tr>\n",
       "            <tr>\n",
       "                        <th id=\"T_19ba8_level0_row46\" class=\"row_heading level0 row46\" >46</th>\n",
       "                        <td id=\"T_19ba8_row46_col0\" class=\"data row46 col0\" >Jouf Health Affairs</td>\n",
       "                        <td id=\"T_19ba8_row46_col1\" class=\"data row46 col1\" >Swair General Hospital</td>\n",
       "                        <td id=\"T_19ba8_row46_col2\" class=\"data row46 col2\" >181</td>\n",
       "                        <td id=\"T_19ba8_row46_col3\" class=\"data row46 col3\" >2084</td>\n",
       "                        <td id=\"T_19ba8_row46_col4\" class=\"data row46 col4\" >0</td>\n",
       "                        <td id=\"T_19ba8_row46_col5\" class=\"data row46 col5\" >0.000000</td>\n",
       "            </tr>\n",
       "            <tr>\n",
       "                        <th id=\"T_19ba8_level0_row47\" class=\"row_heading level0 row47\" >47</th>\n",
       "                        <td id=\"T_19ba8_row47_col0\" class=\"data row47 col0\" >Madinah Health Cluster</td>\n",
       "                        <td id=\"T_19ba8_row47_col1\" class=\"data row47 col1\" >Al Eis General Hospital</td>\n",
       "                        <td id=\"T_19ba8_row47_col2\" class=\"data row47 col2\" >122</td>\n",
       "                        <td id=\"T_19ba8_row47_col3\" class=\"data row47 col3\" >1658</td>\n",
       "                        <td id=\"T_19ba8_row47_col4\" class=\"data row47 col4\" >0</td>\n",
       "                        <td id=\"T_19ba8_row47_col5\" class=\"data row47 col5\" >0.000000</td>\n",
       "            </tr>\n",
       "            <tr>\n",
       "                        <th id=\"T_19ba8_level0_row48\" class=\"row_heading level0 row48\" >48</th>\n",
       "                        <td id=\"T_19ba8_row48_col0\" class=\"data row48 col0\" >Madinah Health Cluster</td>\n",
       "                        <td id=\"T_19ba8_row48_col1\" class=\"data row48 col1\" >Al Hamnah General Hospital</td>\n",
       "                        <td id=\"T_19ba8_row48_col2\" class=\"data row48 col2\" >126</td>\n",
       "                        <td id=\"T_19ba8_row48_col3\" class=\"data row48 col3\" >783</td>\n",
       "                        <td id=\"T_19ba8_row48_col4\" class=\"data row48 col4\" >0</td>\n",
       "                        <td id=\"T_19ba8_row48_col5\" class=\"data row48 col5\" >0.000000</td>\n",
       "            </tr>\n",
       "            <tr>\n",
       "                        <th id=\"T_19ba8_level0_row49\" class=\"row_heading level0 row49\" >49</th>\n",
       "                        <td id=\"T_19ba8_row49_col0\" class=\"data row49 col0\" >Madinah Health Cluster</td>\n",
       "                        <td id=\"T_19ba8_row49_col1\" class=\"data row49 col1\" >Al Hanakiya Hospital</td>\n",
       "                        <td id=\"T_19ba8_row49_col2\" class=\"data row49 col2\" >121</td>\n",
       "                        <td id=\"T_19ba8_row49_col3\" class=\"data row49 col3\" >2178</td>\n",
       "                        <td id=\"T_19ba8_row49_col4\" class=\"data row49 col4\" >0</td>\n",
       "                        <td id=\"T_19ba8_row49_col5\" class=\"data row49 col5\" >0.000000</td>\n",
       "            </tr>\n",
       "            <tr>\n",
       "                        <th id=\"T_19ba8_level0_row50\" class=\"row_heading level0 row50\" >50</th>\n",
       "                        <td id=\"T_19ba8_row50_col0\" class=\"data row50 col0\" >Madinah Health Cluster</td>\n",
       "                        <td id=\"T_19ba8_row50_col1\" class=\"data row50 col1\" >Al Mahd Hospital</td>\n",
       "                        <td id=\"T_19ba8_row50_col2\" class=\"data row50 col2\" >116</td>\n",
       "                        <td id=\"T_19ba8_row50_col3\" class=\"data row50 col3\" >2151</td>\n",
       "                        <td id=\"T_19ba8_row50_col4\" class=\"data row50 col4\" >0</td>\n",
       "                        <td id=\"T_19ba8_row50_col5\" class=\"data row50 col5\" >0.000000</td>\n",
       "            </tr>\n",
       "            <tr>\n",
       "                        <th id=\"T_19ba8_level0_row51\" class=\"row_heading level0 row51\" >51</th>\n",
       "                        <td id=\"T_19ba8_row51_col0\" class=\"data row51 col0\" >Madinah Health Cluster</td>\n",
       "                        <td id=\"T_19ba8_row51_col1\" class=\"data row51 col1\" >Al-Haso General Hospital</td>\n",
       "                        <td id=\"T_19ba8_row51_col2\" class=\"data row51 col2\" >127</td>\n",
       "                        <td id=\"T_19ba8_row51_col3\" class=\"data row51 col3\" >556</td>\n",
       "                        <td id=\"T_19ba8_row51_col4\" class=\"data row51 col4\" >0</td>\n",
       "                        <td id=\"T_19ba8_row51_col5\" class=\"data row51 col5\" >0.000000</td>\n",
       "            </tr>\n",
       "            <tr>\n",
       "                        <th id=\"T_19ba8_level0_row52\" class=\"row_heading level0 row52\" >52</th>\n",
       "                        <td id=\"T_19ba8_row52_col0\" class=\"data row52 col0\" >Madinah Health Cluster</td>\n",
       "                        <td id=\"T_19ba8_row52_col1\" class=\"data row52 col1\" >Badr General Hospital</td>\n",
       "                        <td id=\"T_19ba8_row52_col2\" class=\"data row52 col2\" >117</td>\n",
       "                        <td id=\"T_19ba8_row52_col3\" class=\"data row52 col3\" >2994</td>\n",
       "                        <td id=\"T_19ba8_row52_col4\" class=\"data row52 col4\" >0</td>\n",
       "                        <td id=\"T_19ba8_row52_col5\" class=\"data row52 col5\" >0.000000</td>\n",
       "            </tr>\n",
       "            <tr>\n",
       "                        <th id=\"T_19ba8_level0_row53\" class=\"row_heading level0 row53\" >53</th>\n",
       "                        <td id=\"T_19ba8_row53_col0\" class=\"data row53 col0\" >Madinah Health Cluster</td>\n",
       "                        <td id=\"T_19ba8_row53_col1\" class=\"data row53 col1\" >Miqat General Hospital</td>\n",
       "                        <td id=\"T_19ba8_row53_col2\" class=\"data row53 col2\" >120</td>\n",
       "                        <td id=\"T_19ba8_row53_col3\" class=\"data row53 col3\" >1750</td>\n",
       "                        <td id=\"T_19ba8_row53_col4\" class=\"data row53 col4\" >0</td>\n",
       "                        <td id=\"T_19ba8_row53_col5\" class=\"data row53 col5\" >0.000000</td>\n",
       "            </tr>\n",
       "            <tr>\n",
       "                        <th id=\"T_19ba8_level0_row54\" class=\"row_heading level0 row54\" >54</th>\n",
       "                        <td id=\"T_19ba8_row54_col0\" class=\"data row54 col0\" >Madinah Health Cluster</td>\n",
       "                        <td id=\"T_19ba8_row54_col1\" class=\"data row54 col1\" >Wadi Fara General Hospital</td>\n",
       "                        <td id=\"T_19ba8_row54_col2\" class=\"data row54 col2\" >261</td>\n",
       "                        <td id=\"T_19ba8_row54_col3\" class=\"data row54 col3\" >1489</td>\n",
       "                        <td id=\"T_19ba8_row54_col4\" class=\"data row54 col4\" >0</td>\n",
       "                        <td id=\"T_19ba8_row54_col5\" class=\"data row54 col5\" >0.000000</td>\n",
       "            </tr>\n",
       "            <tr>\n",
       "                        <th id=\"T_19ba8_level0_row55\" class=\"row_heading level0 row55\" >55</th>\n",
       "                        <td id=\"T_19ba8_row55_col0\" class=\"data row55 col0\" >Madinah Health Cluster</td>\n",
       "                        <td id=\"T_19ba8_row55_col1\" class=\"data row55 col1\" >Yanbu Al Nakeel General Hospital</td>\n",
       "                        <td id=\"T_19ba8_row55_col2\" class=\"data row55 col2\" >128</td>\n",
       "                        <td id=\"T_19ba8_row55_col3\" class=\"data row55 col3\" >438</td>\n",
       "                        <td id=\"T_19ba8_row55_col4\" class=\"data row55 col4\" >0</td>\n",
       "                        <td id=\"T_19ba8_row55_col5\" class=\"data row55 col5\" >0.000000</td>\n",
       "            </tr>\n",
       "            <tr>\n",
       "                        <th id=\"T_19ba8_level0_row56\" class=\"row_heading level0 row56\" >56</th>\n",
       "                        <td id=\"T_19ba8_row56_col0\" class=\"data row56 col0\" >Makkah Health Cluster</td>\n",
       "                        <td id=\"T_19ba8_row56_col1\" class=\"data row56 col1\" >Alkamel Hospital</td>\n",
       "                        <td id=\"T_19ba8_row56_col2\" class=\"data row56 col2\" >50</td>\n",
       "                        <td id=\"T_19ba8_row56_col3\" class=\"data row56 col3\" >1610</td>\n",
       "                        <td id=\"T_19ba8_row56_col4\" class=\"data row56 col4\" >0</td>\n",
       "                        <td id=\"T_19ba8_row56_col5\" class=\"data row56 col5\" >0.000000</td>\n",
       "            </tr>\n",
       "            <tr>\n",
       "                        <th id=\"T_19ba8_level0_row57\" class=\"row_heading level0 row57\" >57</th>\n",
       "                        <td id=\"T_19ba8_row57_col0\" class=\"data row57 col0\" >Makkah Health Cluster</td>\n",
       "                        <td id=\"T_19ba8_row57_col1\" class=\"data row57 col1\" >Khulais General Hospital</td>\n",
       "                        <td id=\"T_19ba8_row57_col2\" class=\"data row57 col2\" >51</td>\n",
       "                        <td id=\"T_19ba8_row57_col3\" class=\"data row57 col3\" >1962</td>\n",
       "                        <td id=\"T_19ba8_row57_col4\" class=\"data row57 col4\" >1</td>\n",
       "                        <td id=\"T_19ba8_row57_col5\" class=\"data row57 col5\" >0.050968</td>\n",
       "            </tr>\n",
       "            <tr>\n",
       "                        <th id=\"T_19ba8_level0_row58\" class=\"row_heading level0 row58\" >58</th>\n",
       "                        <td id=\"T_19ba8_row58_col0\" class=\"data row58 col0\" >Najran Health Affairs</td>\n",
       "                        <td id=\"T_19ba8_row58_col1\" class=\"data row58 col1\" >Badr Al-Janoub Hospital</td>\n",
       "                        <td id=\"T_19ba8_row58_col2\" class=\"data row58 col2\" >276</td>\n",
       "                        <td id=\"T_19ba8_row58_col3\" class=\"data row58 col3\" >1170</td>\n",
       "                        <td id=\"T_19ba8_row58_col4\" class=\"data row58 col4\" >0</td>\n",
       "                        <td id=\"T_19ba8_row58_col5\" class=\"data row58 col5\" >0.000000</td>\n",
       "            </tr>\n",
       "            <tr>\n",
       "                        <th id=\"T_19ba8_level0_row59\" class=\"row_heading level0 row59\" >59</th>\n",
       "                        <td id=\"T_19ba8_row59_col0\" class=\"data row59 col0\" >Najran Health Affairs</td>\n",
       "                        <td id=\"T_19ba8_row59_col1\" class=\"data row59 col1\" >Habonna General Hospital</td>\n",
       "                        <td id=\"T_19ba8_row59_col2\" class=\"data row59 col2\" >244</td>\n",
       "                        <td id=\"T_19ba8_row59_col3\" class=\"data row59 col3\" >3031</td>\n",
       "                        <td id=\"T_19ba8_row59_col4\" class=\"data row59 col4\" >215</td>\n",
       "                        <td id=\"T_19ba8_row59_col5\" class=\"data row59 col5\" >7.093369</td>\n",
       "            </tr>\n",
       "            <tr>\n",
       "                        <th id=\"T_19ba8_level0_row60\" class=\"row_heading level0 row60\" >60</th>\n",
       "                        <td id=\"T_19ba8_row60_col0\" class=\"data row60 col0\" >Najran Health Affairs</td>\n",
       "                        <td id=\"T_19ba8_row60_col1\" class=\"data row60 col1\" >Thar Hospital</td>\n",
       "                        <td id=\"T_19ba8_row60_col2\" class=\"data row60 col2\" >266</td>\n",
       "                        <td id=\"T_19ba8_row60_col3\" class=\"data row60 col3\" >1535</td>\n",
       "                        <td id=\"T_19ba8_row60_col4\" class=\"data row60 col4\" >0</td>\n",
       "                        <td id=\"T_19ba8_row60_col5\" class=\"data row60 col5\" >0.000000</td>\n",
       "            </tr>\n",
       "            <tr>\n",
       "                        <th id=\"T_19ba8_level0_row61\" class=\"row_heading level0 row61\" >61</th>\n",
       "                        <td id=\"T_19ba8_row61_col0\" class=\"data row61 col0\" >Najran Health Affairs</td>\n",
       "                        <td id=\"T_19ba8_row61_col1\" class=\"data row61 col1\" >Yadmah Hospital</td>\n",
       "                        <td id=\"T_19ba8_row61_col2\" class=\"data row61 col2\" >246</td>\n",
       "                        <td id=\"T_19ba8_row61_col3\" class=\"data row61 col3\" >2609</td>\n",
       "                        <td id=\"T_19ba8_row61_col4\" class=\"data row61 col4\" >0</td>\n",
       "                        <td id=\"T_19ba8_row61_col5\" class=\"data row61 col5\" >0.000000</td>\n",
       "            </tr>\n",
       "            <tr>\n",
       "                        <th id=\"T_19ba8_level0_row62\" class=\"row_heading level0 row62\" >62</th>\n",
       "                        <td id=\"T_19ba8_row62_col0\" class=\"data row62 col0\" >Najran Health Affairs</td>\n",
       "                        <td id=\"T_19ba8_row62_col1\" class=\"data row62 col1\" >kBash Hospital</td>\n",
       "                        <td id=\"T_19ba8_row62_col2\" class=\"data row62 col2\" >1739</td>\n",
       "                        <td id=\"T_19ba8_row62_col3\" class=\"data row62 col3\" >1886</td>\n",
       "                        <td id=\"T_19ba8_row62_col4\" class=\"data row62 col4\" >450</td>\n",
       "                        <td id=\"T_19ba8_row62_col5\" class=\"data row62 col5\" >23.860021</td>\n",
       "            </tr>\n",
       "            <tr>\n",
       "                        <th id=\"T_19ba8_level0_row63\" class=\"row_heading level0 row63\" >63</th>\n",
       "                        <td id=\"T_19ba8_row63_col0\" class=\"data row63 col0\" >Northern Borders Health Affairs</td>\n",
       "                        <td id=\"T_19ba8_row63_col1\" class=\"data row63 col1\" >Al Owaiqelah Hospital</td>\n",
       "                        <td id=\"T_19ba8_row63_col2\" class=\"data row63 col2\" >173</td>\n",
       "                        <td id=\"T_19ba8_row63_col3\" class=\"data row63 col3\" >2017</td>\n",
       "                        <td id=\"T_19ba8_row63_col4\" class=\"data row63 col4\" >0</td>\n",
       "                        <td id=\"T_19ba8_row63_col5\" class=\"data row63 col5\" >0.000000</td>\n",
       "            </tr>\n",
       "            <tr>\n",
       "                        <th id=\"T_19ba8_level0_row64\" class=\"row_heading level0 row64\" >64</th>\n",
       "                        <td id=\"T_19ba8_row64_col0\" class=\"data row64 col0\" >Northern Borders Health Affairs</td>\n",
       "                        <td id=\"T_19ba8_row64_col1\" class=\"data row64 col1\" >Jadida Arar Hospital </td>\n",
       "                        <td id=\"T_19ba8_row64_col2\" class=\"data row64 col2\" >4414</td>\n",
       "                        <td id=\"T_19ba8_row64_col3\" class=\"data row64 col3\" >291</td>\n",
       "                        <td id=\"T_19ba8_row64_col4\" class=\"data row64 col4\" >0</td>\n",
       "                        <td id=\"T_19ba8_row64_col5\" class=\"data row64 col5\" >0.000000</td>\n",
       "            </tr>\n",
       "            <tr>\n",
       "                        <th id=\"T_19ba8_level0_row65\" class=\"row_heading level0 row65\" >65</th>\n",
       "                        <td id=\"T_19ba8_row65_col0\" class=\"data row65 col0\" >Northern Borders Health Affairs</td>\n",
       "                        <td id=\"T_19ba8_row65_col1\" class=\"data row65 col1\" >Shoba Nassab Hospital</td>\n",
       "                        <td id=\"T_19ba8_row65_col2\" class=\"data row65 col2\" >174</td>\n",
       "                        <td id=\"T_19ba8_row65_col3\" class=\"data row65 col3\" >302</td>\n",
       "                        <td id=\"T_19ba8_row65_col4\" class=\"data row65 col4\" >0</td>\n",
       "                        <td id=\"T_19ba8_row65_col5\" class=\"data row65 col5\" >0.000000</td>\n",
       "            </tr>\n",
       "            <tr>\n",
       "                        <th id=\"T_19ba8_level0_row66\" class=\"row_heading level0 row66\" >66</th>\n",
       "                        <td id=\"T_19ba8_row66_col0\" class=\"data row66 col0\" >Qassim Health Cluster</td>\n",
       "                        <td id=\"T_19ba8_row66_col1\" class=\"data row66 col1\" >Al Nabhanyeh Hospital</td>\n",
       "                        <td id=\"T_19ba8_row66_col2\" class=\"data row66 col2\" >278</td>\n",
       "                        <td id=\"T_19ba8_row66_col3\" class=\"data row66 col3\" >1761</td>\n",
       "                        <td id=\"T_19ba8_row66_col4\" class=\"data row66 col4\" >306</td>\n",
       "                        <td id=\"T_19ba8_row66_col5\" class=\"data row66 col5\" >17.376491</td>\n",
       "            </tr>\n",
       "            <tr>\n",
       "                        <th id=\"T_19ba8_level0_row67\" class=\"row_heading level0 row67\" >67</th>\n",
       "                        <td id=\"T_19ba8_row67_col0\" class=\"data row67 col0\" >Qassim Health Cluster</td>\n",
       "                        <td id=\"T_19ba8_row67_col1\" class=\"data row67 col1\" >Al-Asyah Hospital</td>\n",
       "                        <td id=\"T_19ba8_row67_col2\" class=\"data row67 col2\" >146</td>\n",
       "                        <td id=\"T_19ba8_row67_col3\" class=\"data row67 col3\" >3796</td>\n",
       "                        <td id=\"T_19ba8_row67_col4\" class=\"data row67 col4\" >0</td>\n",
       "                        <td id=\"T_19ba8_row67_col5\" class=\"data row67 col5\" >0.000000</td>\n",
       "            </tr>\n",
       "            <tr>\n",
       "                        <th id=\"T_19ba8_level0_row68\" class=\"row_heading level0 row68\" >68</th>\n",
       "                        <td id=\"T_19ba8_row68_col0\" class=\"data row68 col0\" >Qassim Health Cluster</td>\n",
       "                        <td id=\"T_19ba8_row68_col1\" class=\"data row68 col1\" >Al-Kowarah General Hospital     AlQaseem        مستشفى القوارة العام</td>\n",
       "                        <td id=\"T_19ba8_row68_col2\" class=\"data row68 col2\" >3832</td>\n",
       "                        <td id=\"T_19ba8_row68_col3\" class=\"data row68 col3\" >1540</td>\n",
       "                        <td id=\"T_19ba8_row68_col4\" class=\"data row68 col4\" >118</td>\n",
       "                        <td id=\"T_19ba8_row68_col5\" class=\"data row68 col5\" >7.662338</td>\n",
       "            </tr>\n",
       "            <tr>\n",
       "                        <th id=\"T_19ba8_level0_row69\" class=\"row_heading level0 row69\" >69</th>\n",
       "                        <td id=\"T_19ba8_row69_col0\" class=\"data row69 col0\" >Qassim Health Cluster</td>\n",
       "                        <td id=\"T_19ba8_row69_col1\" class=\"data row69 col1\" >Dariyah General Hospital</td>\n",
       "                        <td id=\"T_19ba8_row69_col2\" class=\"data row69 col2\" >145</td>\n",
       "                        <td id=\"T_19ba8_row69_col3\" class=\"data row69 col3\" >2003</td>\n",
       "                        <td id=\"T_19ba8_row69_col4\" class=\"data row69 col4\" >0</td>\n",
       "                        <td id=\"T_19ba8_row69_col5\" class=\"data row69 col5\" >0.000000</td>\n",
       "            </tr>\n",
       "            <tr>\n",
       "                        <th id=\"T_19ba8_level0_row70\" class=\"row_heading level0 row70\" >70</th>\n",
       "                        <td id=\"T_19ba8_row70_col0\" class=\"data row70 col0\" >Qassim Health Cluster</td>\n",
       "                        <td id=\"T_19ba8_row70_col1\" class=\"data row70 col1\" >Kobbah General Hospital</td>\n",
       "                        <td id=\"T_19ba8_row70_col2\" class=\"data row70 col2\" >139</td>\n",
       "                        <td id=\"T_19ba8_row70_col3\" class=\"data row70 col3\" >1971</td>\n",
       "                        <td id=\"T_19ba8_row70_col4\" class=\"data row70 col4\" >0</td>\n",
       "                        <td id=\"T_19ba8_row70_col5\" class=\"data row70 col5\" >0.000000</td>\n",
       "            </tr>\n",
       "            <tr>\n",
       "                        <th id=\"T_19ba8_level0_row71\" class=\"row_heading level0 row71\" >71</th>\n",
       "                        <td id=\"T_19ba8_row71_col0\" class=\"data row71 col0\" >Qassim Health Cluster</td>\n",
       "                        <td id=\"T_19ba8_row71_col1\" class=\"data row71 col1\" >Oqulat Al Soquoor Hospital</td>\n",
       "                        <td id=\"T_19ba8_row71_col2\" class=\"data row71 col2\" >144</td>\n",
       "                        <td id=\"T_19ba8_row71_col3\" class=\"data row71 col3\" >1018</td>\n",
       "                        <td id=\"T_19ba8_row71_col4\" class=\"data row71 col4\" >6</td>\n",
       "                        <td id=\"T_19ba8_row71_col5\" class=\"data row71 col5\" >0.589391</td>\n",
       "            </tr>\n",
       "            <tr>\n",
       "                        <th id=\"T_19ba8_level0_row72\" class=\"row_heading level0 row72\" >72</th>\n",
       "                        <td id=\"T_19ba8_row72_col0\" class=\"data row72 col0\" >Qassim Health Cluster</td>\n",
       "                        <td id=\"T_19ba8_row72_col1\" class=\"data row72 col1\" >Ouyoon Aljowaa Hospital</td>\n",
       "                        <td id=\"T_19ba8_row72_col2\" class=\"data row72 col2\" >141</td>\n",
       "                        <td id=\"T_19ba8_row72_col3\" class=\"data row72 col3\" >4961</td>\n",
       "                        <td id=\"T_19ba8_row72_col4\" class=\"data row72 col4\" >76</td>\n",
       "                        <td id=\"T_19ba8_row72_col5\" class=\"data row72 col5\" >1.531949</td>\n",
       "            </tr>\n",
       "            <tr>\n",
       "                        <th id=\"T_19ba8_level0_row73\" class=\"row_heading level0 row73\" >73</th>\n",
       "                        <td id=\"T_19ba8_row73_col0\" class=\"data row73 col0\" >Qassim Health Cluster</td>\n",
       "                        <td id=\"T_19ba8_row73_col1\" class=\"data row73 col1\" >Qusaybaa General Hospital</td>\n",
       "                        <td id=\"T_19ba8_row73_col2\" class=\"data row73 col2\" >138</td>\n",
       "                        <td id=\"T_19ba8_row73_col3\" class=\"data row73 col3\" >858</td>\n",
       "                        <td id=\"T_19ba8_row73_col4\" class=\"data row73 col4\" >18</td>\n",
       "                        <td id=\"T_19ba8_row73_col5\" class=\"data row73 col5\" >2.097902</td>\n",
       "            </tr>\n",
       "            <tr>\n",
       "                        <th id=\"T_19ba8_level0_row74\" class=\"row_heading level0 row74\" >74</th>\n",
       "                        <td id=\"T_19ba8_row74_col0\" class=\"data row74 col0\" >Qassim Health Cluster</td>\n",
       "                        <td id=\"T_19ba8_row74_col1\" class=\"data row74 col1\" >Riyad Alkhobaraa General Hospital</td>\n",
       "                        <td id=\"T_19ba8_row74_col2\" class=\"data row74 col2\" >142</td>\n",
       "                        <td id=\"T_19ba8_row74_col3\" class=\"data row74 col3\" >3527</td>\n",
       "                        <td id=\"T_19ba8_row74_col4\" class=\"data row74 col4\" >1</td>\n",
       "                        <td id=\"T_19ba8_row74_col5\" class=\"data row74 col5\" >0.028353</td>\n",
       "            </tr>\n",
       "            <tr>\n",
       "                        <th id=\"T_19ba8_level0_row75\" class=\"row_heading level0 row75\" >75</th>\n",
       "                        <td id=\"T_19ba8_row75_col0\" class=\"data row75 col0\" >Qunfotha Health Affairs</td>\n",
       "                        <td id=\"T_19ba8_row75_col1\" class=\"data row75 col1\" >AlMozaylif Hospital</td>\n",
       "                        <td id=\"T_19ba8_row75_col2\" class=\"data row75 col2\" >2619</td>\n",
       "                        <td id=\"T_19ba8_row75_col3\" class=\"data row75 col3\" >3372</td>\n",
       "                        <td id=\"T_19ba8_row75_col4\" class=\"data row75 col4\" >0</td>\n",
       "                        <td id=\"T_19ba8_row75_col5\" class=\"data row75 col5\" >0.000000</td>\n",
       "            </tr>\n",
       "            <tr>\n",
       "                        <th id=\"T_19ba8_level0_row76\" class=\"row_heading level0 row76\" >76</th>\n",
       "                        <td id=\"T_19ba8_row76_col0\" class=\"data row76 col0\" >Qunfotha Health Affairs</td>\n",
       "                        <td id=\"T_19ba8_row76_col1\" class=\"data row76 col1\" >Namirah Hospital</td>\n",
       "                        <td id=\"T_19ba8_row76_col2\" class=\"data row76 col2\" >2617</td>\n",
       "                        <td id=\"T_19ba8_row76_col3\" class=\"data row76 col3\" >3112</td>\n",
       "                        <td id=\"T_19ba8_row76_col4\" class=\"data row76 col4\" >0</td>\n",
       "                        <td id=\"T_19ba8_row76_col5\" class=\"data row76 col5\" >0.000000</td>\n",
       "            </tr>\n",
       "            <tr>\n",
       "                        <th id=\"T_19ba8_level0_row77\" class=\"row_heading level0 row77\" >77</th>\n",
       "                        <td id=\"T_19ba8_row77_col0\" class=\"data row77 col0\" >Qunfotha Health Affairs</td>\n",
       "                        <td id=\"T_19ba8_row77_col1\" class=\"data row77 col1\" >Thriban Hospital</td>\n",
       "                        <td id=\"T_19ba8_row77_col2\" class=\"data row77 col2\" >259</td>\n",
       "                        <td id=\"T_19ba8_row77_col3\" class=\"data row77 col3\" >2007</td>\n",
       "                        <td id=\"T_19ba8_row77_col4\" class=\"data row77 col4\" >0</td>\n",
       "                        <td id=\"T_19ba8_row77_col5\" class=\"data row77 col5\" >0.000000</td>\n",
       "            </tr>\n",
       "            <tr>\n",
       "                        <th id=\"T_19ba8_level0_row78\" class=\"row_heading level0 row78\" >78</th>\n",
       "                        <td id=\"T_19ba8_row78_col0\" class=\"data row78 col0\" >Riyadh First Health Cluster</td>\n",
       "                        <td id=\"T_19ba8_row78_col1\" class=\"data row78 col1\" >Al Hareeque General Hospital</td>\n",
       "                        <td id=\"T_19ba8_row78_col2\" class=\"data row78 col2\" >37</td>\n",
       "                        <td id=\"T_19ba8_row78_col3\" class=\"data row78 col3\" >295</td>\n",
       "                        <td id=\"T_19ba8_row78_col4\" class=\"data row78 col4\" >0</td>\n",
       "                        <td id=\"T_19ba8_row78_col5\" class=\"data row78 col5\" >0.000000</td>\n",
       "            </tr>\n",
       "            <tr>\n",
       "                        <th id=\"T_19ba8_level0_row79\" class=\"row_heading level0 row79\" >79</th>\n",
       "                        <td id=\"T_19ba8_row79_col0\" class=\"data row79 col0\" >Riyadh First Health Cluster</td>\n",
       "                        <td id=\"T_19ba8_row79_col1\" class=\"data row79 col1\" >Al Mozahimiyah General Hospital</td>\n",
       "                        <td id=\"T_19ba8_row79_col2\" class=\"data row79 col2\" >27</td>\n",
       "                        <td id=\"T_19ba8_row79_col3\" class=\"data row79 col3\" >2823</td>\n",
       "                        <td id=\"T_19ba8_row79_col4\" class=\"data row79 col4\" >0</td>\n",
       "                        <td id=\"T_19ba8_row79_col5\" class=\"data row79 col5\" >0.000000</td>\n",
       "            </tr>\n",
       "            <tr>\n",
       "                        <th id=\"T_19ba8_level0_row80\" class=\"row_heading level0 row80\" >80</th>\n",
       "                        <td id=\"T_19ba8_row80_col0\" class=\"data row80 col0\" >Riyadh First Health Cluster</td>\n",
       "                        <td id=\"T_19ba8_row80_col1\" class=\"data row80 col1\" >Al Rayn General Hospital</td>\n",
       "                        <td id=\"T_19ba8_row80_col2\" class=\"data row80 col2\" >39</td>\n",
       "                        <td id=\"T_19ba8_row80_col3\" class=\"data row80 col3\" >1766</td>\n",
       "                        <td id=\"T_19ba8_row80_col4\" class=\"data row80 col4\" >0</td>\n",
       "                        <td id=\"T_19ba8_row80_col5\" class=\"data row80 col5\" >0.000000</td>\n",
       "            </tr>\n",
       "            <tr>\n",
       "                        <th id=\"T_19ba8_level0_row81\" class=\"row_heading level0 row81\" >81</th>\n",
       "                        <td id=\"T_19ba8_row81_col0\" class=\"data row81 col0\" >Riyadh First Health Cluster</td>\n",
       "                        <td id=\"T_19ba8_row81_col1\" class=\"data row81 col1\" >Al Saleel hospital</td>\n",
       "                        <td id=\"T_19ba8_row81_col2\" class=\"data row81 col2\" >21</td>\n",
       "                        <td id=\"T_19ba8_row81_col3\" class=\"data row81 col3\" >2660</td>\n",
       "                        <td id=\"T_19ba8_row81_col4\" class=\"data row81 col4\" >0</td>\n",
       "                        <td id=\"T_19ba8_row81_col5\" class=\"data row81 col5\" >0.000000</td>\n",
       "            </tr>\n",
       "            <tr>\n",
       "                        <th id=\"T_19ba8_level0_row82\" class=\"row_heading level0 row82\" >82</th>\n",
       "                        <td id=\"T_19ba8_row82_col0\" class=\"data row82 col0\" >Riyadh First Health Cluster</td>\n",
       "                        <td id=\"T_19ba8_row82_col1\" class=\"data row82 col1\" >Al khasirah Hospital</td>\n",
       "                        <td id=\"T_19ba8_row82_col2\" class=\"data row82 col2\" >38</td>\n",
       "                        <td id=\"T_19ba8_row82_col3\" class=\"data row82 col3\" >3</td>\n",
       "                        <td id=\"T_19ba8_row82_col4\" class=\"data row82 col4\" >0</td>\n",
       "                        <td id=\"T_19ba8_row82_col5\" class=\"data row82 col5\" >0.000000</td>\n",
       "            </tr>\n",
       "            <tr>\n",
       "                        <th id=\"T_19ba8_level0_row83\" class=\"row_heading level0 row83\" >83</th>\n",
       "                        <td id=\"T_19ba8_row83_col0\" class=\"data row83 col0\" >Riyadh First Health Cluster</td>\n",
       "                        <td id=\"T_19ba8_row83_col1\" class=\"data row83 col1\" >Prince Salman General Hospital - Ad-dalam</td>\n",
       "                        <td id=\"T_19ba8_row83_col2\" class=\"data row83 col2\" >36</td>\n",
       "                        <td id=\"T_19ba8_row83_col3\" class=\"data row83 col3\" >2412</td>\n",
       "                        <td id=\"T_19ba8_row83_col4\" class=\"data row83 col4\" >0</td>\n",
       "                        <td id=\"T_19ba8_row83_col5\" class=\"data row83 col5\" >0.000000</td>\n",
       "            </tr>\n",
       "            <tr>\n",
       "                        <th id=\"T_19ba8_level0_row84\" class=\"row_heading level0 row84\" >84</th>\n",
       "                        <td id=\"T_19ba8_row84_col0\" class=\"data row84 col0\" >Riyadh First Health Cluster</td>\n",
       "                        <td id=\"T_19ba8_row84_col1\" class=\"data row84 col1\" >Rowaidah Alard General Hospital</td>\n",
       "                        <td id=\"T_19ba8_row84_col2\" class=\"data row84 col2\" >25</td>\n",
       "                        <td id=\"T_19ba8_row84_col3\" class=\"data row84 col3\" >2423</td>\n",
       "                        <td id=\"T_19ba8_row84_col4\" class=\"data row84 col4\" >11</td>\n",
       "                        <td id=\"T_19ba8_row84_col5\" class=\"data row84 col5\" >0.453983</td>\n",
       "            </tr>\n",
       "            <tr>\n",
       "                        <th id=\"T_19ba8_level0_row85\" class=\"row_heading level0 row85\" >85</th>\n",
       "                        <td id=\"T_19ba8_row85_col0\" class=\"data row85 col0\" >Riyadh Second Health Cluster</td>\n",
       "                        <td id=\"T_19ba8_row85_col1\" class=\"data row85 col1\" >Al Artawiyah hospital</td>\n",
       "                        <td id=\"T_19ba8_row85_col2\" class=\"data row85 col2\" >33</td>\n",
       "                        <td id=\"T_19ba8_row85_col3\" class=\"data row85 col3\" >1598</td>\n",
       "                        <td id=\"T_19ba8_row85_col4\" class=\"data row85 col4\" >0</td>\n",
       "                        <td id=\"T_19ba8_row85_col5\" class=\"data row85 col5\" >0.000000</td>\n",
       "            </tr>\n",
       "            <tr>\n",
       "                        <th id=\"T_19ba8_level0_row86\" class=\"row_heading level0 row86\" >86</th>\n",
       "                        <td id=\"T_19ba8_row86_col0\" class=\"data row86 col0\" >Riyadh Second Health Cluster</td>\n",
       "                        <td id=\"T_19ba8_row86_col1\" class=\"data row86 col1\" >Hospital Ghat</td>\n",
       "                        <td id=\"T_19ba8_row86_col2\" class=\"data row86 col2\" >4348</td>\n",
       "                        <td id=\"T_19ba8_row86_col3\" class=\"data row86 col3\" >0</td>\n",
       "                        <td id=\"T_19ba8_row86_col4\" class=\"data row86 col4\" >0</td>\n",
       "                        <td id=\"T_19ba8_row86_col5\" class=\"data row86 col5\" >nan</td>\n",
       "            </tr>\n",
       "            <tr>\n",
       "                        <th id=\"T_19ba8_level0_row87\" class=\"row_heading level0 row87\" >87</th>\n",
       "                        <td id=\"T_19ba8_row87_col0\" class=\"data row87 col0\" >Riyadh Second Health Cluster</td>\n",
       "                        <td id=\"T_19ba8_row87_col1\" class=\"data row87 col1\" >Ramaah General Hospital</td>\n",
       "                        <td id=\"T_19ba8_row87_col2\" class=\"data row87 col2\" >29</td>\n",
       "                        <td id=\"T_19ba8_row87_col3\" class=\"data row87 col3\" >2663</td>\n",
       "                        <td id=\"T_19ba8_row87_col4\" class=\"data row87 col4\" >0</td>\n",
       "                        <td id=\"T_19ba8_row87_col5\" class=\"data row87 col5\" >0.000000</td>\n",
       "            </tr>\n",
       "            <tr>\n",
       "                        <th id=\"T_19ba8_level0_row88\" class=\"row_heading level0 row88\" >88</th>\n",
       "                        <td id=\"T_19ba8_row88_col0\" class=\"data row88 col0\" >Riyadh Second Health Cluster</td>\n",
       "                        <td id=\"T_19ba8_row88_col1\" class=\"data row88 col1\" >Tameer General Hospital</td>\n",
       "                        <td id=\"T_19ba8_row88_col2\" class=\"data row88 col2\" >28</td>\n",
       "                        <td id=\"T_19ba8_row88_col3\" class=\"data row88 col3\" >1403</td>\n",
       "                        <td id=\"T_19ba8_row88_col4\" class=\"data row88 col4\" >0</td>\n",
       "                        <td id=\"T_19ba8_row88_col5\" class=\"data row88 col5\" >0.000000</td>\n",
       "            </tr>\n",
       "            <tr>\n",
       "                        <th id=\"T_19ba8_level0_row89\" class=\"row_heading level0 row89\" >89</th>\n",
       "                        <td id=\"T_19ba8_row89_col0\" class=\"data row89 col0\" >Riyadh Third Health Cluster</td>\n",
       "                        <td id=\"T_19ba8_row89_col1\" class=\"data row89 col1\" >Al-Rafaye Hospital-aljmsh</td>\n",
       "                        <td id=\"T_19ba8_row89_col2\" class=\"data row89 col2\" >40</td>\n",
       "                        <td id=\"T_19ba8_row89_col3\" class=\"data row89 col3\" >1988</td>\n",
       "                        <td id=\"T_19ba8_row89_col4\" class=\"data row89 col4\" >0</td>\n",
       "                        <td id=\"T_19ba8_row89_col5\" class=\"data row89 col5\" >0.000000</td>\n",
       "            </tr>\n",
       "            <tr>\n",
       "                        <th id=\"T_19ba8_level0_row90\" class=\"row_heading level0 row90\" >90</th>\n",
       "                        <td id=\"T_19ba8_row90_col0\" class=\"data row90 col0\" >Riyadh Third Health Cluster</td>\n",
       "                        <td id=\"T_19ba8_row90_col1\" class=\"data row90 col1\" >Bjadya Hospital</td>\n",
       "                        <td id=\"T_19ba8_row90_col2\" class=\"data row90 col2\" >41</td>\n",
       "                        <td id=\"T_19ba8_row90_col3\" class=\"data row90 col3\" >1250</td>\n",
       "                        <td id=\"T_19ba8_row90_col4\" class=\"data row90 col4\" >0</td>\n",
       "                        <td id=\"T_19ba8_row90_col5\" class=\"data row90 col5\" >0.000000</td>\n",
       "            </tr>\n",
       "            <tr>\n",
       "                        <th id=\"T_19ba8_level0_row91\" class=\"row_heading level0 row91\" >91</th>\n",
       "                        <td id=\"T_19ba8_row91_col0\" class=\"data row91 col0\" >Riyadh Third Health Cluster</td>\n",
       "                        <td id=\"T_19ba8_row91_col1\" class=\"data row91 col1\" >Durmaa General Hospital</td>\n",
       "                        <td id=\"T_19ba8_row91_col2\" class=\"data row91 col2\" >42</td>\n",
       "                        <td id=\"T_19ba8_row91_col3\" class=\"data row91 col3\" >2619</td>\n",
       "                        <td id=\"T_19ba8_row91_col4\" class=\"data row91 col4\" >0</td>\n",
       "                        <td id=\"T_19ba8_row91_col5\" class=\"data row91 col5\" >0.000000</td>\n",
       "            </tr>\n",
       "            <tr>\n",
       "                        <th id=\"T_19ba8_level0_row92\" class=\"row_heading level0 row92\" >92</th>\n",
       "                        <td id=\"T_19ba8_row92_col0\" class=\"data row92 col0\" >Riyadh Third Health Cluster</td>\n",
       "                        <td id=\"T_19ba8_row92_col1\" class=\"data row92 col1\" >Nafi general Hospital</td>\n",
       "                        <td id=\"T_19ba8_row92_col2\" class=\"data row92 col2\" >31</td>\n",
       "                        <td id=\"T_19ba8_row92_col3\" class=\"data row92 col3\" >2644</td>\n",
       "                        <td id=\"T_19ba8_row92_col4\" class=\"data row92 col4\" >3</td>\n",
       "                        <td id=\"T_19ba8_row92_col5\" class=\"data row92 col5\" >0.113464</td>\n",
       "            </tr>\n",
       "            <tr>\n",
       "                        <th id=\"T_19ba8_level0_row93\" class=\"row_heading level0 row93\" >93</th>\n",
       "                        <td id=\"T_19ba8_row93_col0\" class=\"data row93 col0\" >Riyadh Third Health Cluster</td>\n",
       "                        <td id=\"T_19ba8_row93_col1\" class=\"data row93 col1\" >Saajer General Hospital</td>\n",
       "                        <td id=\"T_19ba8_row93_col2\" class=\"data row93 col2\" >30</td>\n",
       "                        <td id=\"T_19ba8_row93_col3\" class=\"data row93 col3\" >1910</td>\n",
       "                        <td id=\"T_19ba8_row93_col4\" class=\"data row93 col4\" >0</td>\n",
       "                        <td id=\"T_19ba8_row93_col5\" class=\"data row93 col5\" >0.000000</td>\n",
       "            </tr>\n",
       "            <tr>\n",
       "                        <th id=\"T_19ba8_level0_row94\" class=\"row_heading level0 row94\" >94</th>\n",
       "                        <td id=\"T_19ba8_row94_col0\" class=\"data row94 col0\" >Riyadh Third Health Cluster</td>\n",
       "                        <td id=\"T_19ba8_row94_col1\" class=\"data row94 col1\" >Thadique General Hospital</td>\n",
       "                        <td id=\"T_19ba8_row94_col2\" class=\"data row94 col2\" >26</td>\n",
       "                        <td id=\"T_19ba8_row94_col3\" class=\"data row94 col3\" >1739</td>\n",
       "                        <td id=\"T_19ba8_row94_col4\" class=\"data row94 col4\" >0</td>\n",
       "                        <td id=\"T_19ba8_row94_col5\" class=\"data row94 col5\" >0.000000</td>\n",
       "            </tr>\n",
       "            <tr>\n",
       "                        <th id=\"T_19ba8_level0_row95\" class=\"row_heading level0 row95\" >95</th>\n",
       "                        <td id=\"T_19ba8_row95_col0\" class=\"data row95 col0\" >Riyadh Third Health Cluster</td>\n",
       "                        <td id=\"T_19ba8_row95_col1\" class=\"data row95 col1\" >Wathilan General Hospital</td>\n",
       "                        <td id=\"T_19ba8_row95_col2\" class=\"data row95 col2\" >35</td>\n",
       "                        <td id=\"T_19ba8_row95_col3\" class=\"data row95 col3\" >83</td>\n",
       "                        <td id=\"T_19ba8_row95_col4\" class=\"data row95 col4\" >0</td>\n",
       "                        <td id=\"T_19ba8_row95_col5\" class=\"data row95 col5\" >0.000000</td>\n",
       "            </tr>\n",
       "            <tr>\n",
       "                        <th id=\"T_19ba8_level0_row96\" class=\"row_heading level0 row96\" >96</th>\n",
       "                        <td id=\"T_19ba8_row96_col0\" class=\"data row96 col0\" >Tabuk Health Affairs</td>\n",
       "                        <td id=\"T_19ba8_row96_col1\" class=\"data row96 col1\" >Albad GeneralHospital</td>\n",
       "                        <td id=\"T_19ba8_row96_col2\" class=\"data row96 col2\" >156</td>\n",
       "                        <td id=\"T_19ba8_row96_col3\" class=\"data row96 col3\" >1751</td>\n",
       "                        <td id=\"T_19ba8_row96_col4\" class=\"data row96 col4\" >0</td>\n",
       "                        <td id=\"T_19ba8_row96_col5\" class=\"data row96 col5\" >0.000000</td>\n",
       "            </tr>\n",
       "            <tr>\n",
       "                        <th id=\"T_19ba8_level0_row97\" class=\"row_heading level0 row97\" >97</th>\n",
       "                        <td id=\"T_19ba8_row97_col0\" class=\"data row97 col0\" >Taif Health Affairs</td>\n",
       "                        <td id=\"T_19ba8_row97_col1\" class=\"data row97 col1\" >Al Khormah Hospital</td>\n",
       "                        <td id=\"T_19ba8_row97_col2\" class=\"data row97 col2\" >71</td>\n",
       "                        <td id=\"T_19ba8_row97_col3\" class=\"data row97 col3\" >1297</td>\n",
       "                        <td id=\"T_19ba8_row97_col4\" class=\"data row97 col4\" >0</td>\n",
       "                        <td id=\"T_19ba8_row97_col5\" class=\"data row97 col5\" >0.000000</td>\n",
       "            </tr>\n",
       "            <tr>\n",
       "                        <th id=\"T_19ba8_level0_row98\" class=\"row_heading level0 row98\" >98</th>\n",
       "                        <td id=\"T_19ba8_row98_col0\" class=\"data row98 col0\" >Taif Health Affairs</td>\n",
       "                        <td id=\"T_19ba8_row98_col1\" class=\"data row98 col1\" >Al Muwaih Hospital</td>\n",
       "                        <td id=\"T_19ba8_row98_col2\" class=\"data row98 col2\" >77</td>\n",
       "                        <td id=\"T_19ba8_row98_col3\" class=\"data row98 col3\" >354</td>\n",
       "                        <td id=\"T_19ba8_row98_col4\" class=\"data row98 col4\" >0</td>\n",
       "                        <td id=\"T_19ba8_row98_col5\" class=\"data row98 col5\" >0.000000</td>\n",
       "            </tr>\n",
       "            <tr>\n",
       "                        <th id=\"T_19ba8_level0_row99\" class=\"row_heading level0 row99\" >99</th>\n",
       "                        <td id=\"T_19ba8_row99_col0\" class=\"data row99 col0\" >Taif Health Affairs</td>\n",
       "                        <td id=\"T_19ba8_row99_col1\" class=\"data row99 col1\" >Al Quorai Hospital-Bani Malek</td>\n",
       "                        <td id=\"T_19ba8_row99_col2\" class=\"data row99 col2\" >75</td>\n",
       "                        <td id=\"T_19ba8_row99_col3\" class=\"data row99 col3\" >1209</td>\n",
       "                        <td id=\"T_19ba8_row99_col4\" class=\"data row99 col4\" >0</td>\n",
       "                        <td id=\"T_19ba8_row99_col5\" class=\"data row99 col5\" >0.000000</td>\n",
       "            </tr>\n",
       "            <tr>\n",
       "                        <th id=\"T_19ba8_level0_row100\" class=\"row_heading level0 row100\" >100</th>\n",
       "                        <td id=\"T_19ba8_row100_col0\" class=\"data row100 col0\" >Taif Health Affairs</td>\n",
       "                        <td id=\"T_19ba8_row100_col1\" class=\"data row100 col1\" >Al Sahn Hospital</td>\n",
       "                        <td id=\"T_19ba8_row100_col2\" class=\"data row100 col2\" >76</td>\n",
       "                        <td id=\"T_19ba8_row100_col3\" class=\"data row100 col3\" >2133</td>\n",
       "                        <td id=\"T_19ba8_row100_col4\" class=\"data row100 col4\" >0</td>\n",
       "                        <td id=\"T_19ba8_row100_col5\" class=\"data row100 col5\" >0.000000</td>\n",
       "            </tr>\n",
       "            <tr>\n",
       "                        <th id=\"T_19ba8_level0_row101\" class=\"row_heading level0 row101\" >101</th>\n",
       "                        <td id=\"T_19ba8_row101_col0\" class=\"data row101 col0\" >Taif Health Affairs</td>\n",
       "                        <td id=\"T_19ba8_row101_col1\" class=\"data row101 col1\" >Al-Mahani Hospital</td>\n",
       "                        <td id=\"T_19ba8_row101_col2\" class=\"data row101 col2\" >3862</td>\n",
       "                        <td id=\"T_19ba8_row101_col3\" class=\"data row101 col3\" >770</td>\n",
       "                        <td id=\"T_19ba8_row101_col4\" class=\"data row101 col4\" >0</td>\n",
       "                        <td id=\"T_19ba8_row101_col5\" class=\"data row101 col5\" >0.000000</td>\n",
       "            </tr>\n",
       "            <tr>\n",
       "                        <th id=\"T_19ba8_level0_row102\" class=\"row_heading level0 row102\" >102</th>\n",
       "                        <td id=\"T_19ba8_row102_col0\" class=\"data row102 col0\" >Taif Health Affairs</td>\n",
       "                        <td id=\"T_19ba8_row102_col1\" class=\"data row102 col1\" >Maysaan Hospital</td>\n",
       "                        <td id=\"T_19ba8_row102_col2\" class=\"data row102 col2\" >72</td>\n",
       "                        <td id=\"T_19ba8_row102_col3\" class=\"data row102 col3\" >1844</td>\n",
       "                        <td id=\"T_19ba8_row102_col4\" class=\"data row102 col4\" >0</td>\n",
       "                        <td id=\"T_19ba8_row102_col5\" class=\"data row102 col5\" >0.000000</td>\n",
       "            </tr>\n",
       "            <tr>\n",
       "                        <th id=\"T_19ba8_level0_row103\" class=\"row_heading level0 row103\" >103</th>\n",
       "                        <td id=\"T_19ba8_row103_col0\" class=\"data row103 col0\" >Taif Health Affairs</td>\n",
       "                        <td id=\"T_19ba8_row103_col1\" class=\"data row103 col1\" >Qiyah Bil-Harith General Hospital       Makkah  مستشفى قيا العام</td>\n",
       "                        <td id=\"T_19ba8_row103_col2\" class=\"data row103 col2\" >2668</td>\n",
       "                        <td id=\"T_19ba8_row103_col3\" class=\"data row103 col3\" >1706</td>\n",
       "                        <td id=\"T_19ba8_row103_col4\" class=\"data row103 col4\" >0</td>\n",
       "                        <td id=\"T_19ba8_row103_col5\" class=\"data row103 col5\" >0.000000</td>\n",
       "            </tr>\n",
       "            <tr>\n",
       "                        <th id=\"T_19ba8_level0_row104\" class=\"row_heading level0 row104\" >104</th>\n",
       "                        <td id=\"T_19ba8_row104_col0\" class=\"data row104 col0\" >Taif Health Affairs</td>\n",
       "                        <td id=\"T_19ba8_row104_col1\" class=\"data row104 col1\" >Ranyah Hospital</td>\n",
       "                        <td id=\"T_19ba8_row104_col2\" class=\"data row104 col2\" >73</td>\n",
       "                        <td id=\"T_19ba8_row104_col3\" class=\"data row104 col3\" >2611</td>\n",
       "                        <td id=\"T_19ba8_row104_col4\" class=\"data row104 col4\" >0</td>\n",
       "                        <td id=\"T_19ba8_row104_col5\" class=\"data row104 col5\" >0.000000</td>\n",
       "            </tr>\n",
       "            <tr>\n",
       "                        <th id=\"T_19ba8_level0_row105\" class=\"row_heading level0 row105\" >105</th>\n",
       "                        <td id=\"T_19ba8_row105_col0\" class=\"data row105 col0\" >Taif Health Affairs</td>\n",
       "                        <td id=\"T_19ba8_row105_col1\" class=\"data row105 col1\" >Terbah Hospital</td>\n",
       "                        <td id=\"T_19ba8_row105_col2\" class=\"data row105 col2\" >74</td>\n",
       "                        <td id=\"T_19ba8_row105_col3\" class=\"data row105 col3\" >3218</td>\n",
       "                        <td id=\"T_19ba8_row105_col4\" class=\"data row105 col4\" >0</td>\n",
       "                        <td id=\"T_19ba8_row105_col5\" class=\"data row105 col5\" >0.000000</td>\n",
       "            </tr>\n",
       "            <tr>\n",
       "                        <th id=\"T_19ba8_level0_row106\" class=\"row_heading level0 row106\" >106</th>\n",
       "                        <td id=\"T_19ba8_row106_col0\" class=\"data row106 col0\" >Taif Health Affairs</td>\n",
       "                        <td id=\"T_19ba8_row106_col1\" class=\"data row106 col1\" >Umm Al-Dawam Hospital</td>\n",
       "                        <td id=\"T_19ba8_row106_col2\" class=\"data row106 col2\" >3861</td>\n",
       "                        <td id=\"T_19ba8_row106_col3\" class=\"data row106 col3\" >1508</td>\n",
       "                        <td id=\"T_19ba8_row106_col4\" class=\"data row106 col4\" >0</td>\n",
       "                        <td id=\"T_19ba8_row106_col5\" class=\"data row106 col5\" >0.000000</td>\n",
       "            </tr>\n",
       "            <tr>\n",
       "                        <th id=\"T_19ba8_level0_row107\" class=\"row_heading level0 row107\" >107</th>\n",
       "                        <td id=\"T_19ba8_row107_col0\" class=\"data row107 col0\" >Taif Health Affairs</td>\n",
       "                        <td id=\"T_19ba8_row107_col1\" class=\"data row107 col1\" >Zalim Hospital</td>\n",
       "                        <td id=\"T_19ba8_row107_col2\" class=\"data row107 col2\" >260</td>\n",
       "                        <td id=\"T_19ba8_row107_col3\" class=\"data row107 col3\" >1782</td>\n",
       "                        <td id=\"T_19ba8_row107_col4\" class=\"data row107 col4\" >0</td>\n",
       "                        <td id=\"T_19ba8_row107_col5\" class=\"data row107 col5\" >0.000000</td>\n",
       "            </tr>\n",
       "    </tbody></table>"
      ],
      "text/plain": [
       "<pandas.io.formats.style.Styler at 0x1bc2a751d30>"
      ]
     },
     "execution_count": 332,
     "metadata": {},
     "output_type": "execute_result"
    }
   ],
   "source": [
    "# change color \n",
    "def color_negative_red(value):\n",
    "    if value <= 10:\n",
    "        color = 'red'\n",
    "    elif value >= 10.01:\n",
    "        color = 'Yellow'\n",
    "    else:\n",
    "        color = 'Green'\n",
    "    return 'color: %s' % color\n",
    "df.style.applymap(color_negative_red, subset=['Percentage'])"
   ]
  },
  {
   "cell_type": "code",
   "execution_count": 346,
   "id": "625cccbc",
   "metadata": {},
   "outputs": [
    {
     "data": {
      "application/vnd.plotly.v1+json": {
       "config": {
        "plotlyServerURL": "https://plot.ly"
       },
       "data": [
        {
         "alignmentgroup": "True",
         "hovertemplate": "facility_name=%{x}<br>Subreddits=%{y}<extra></extra>",
         "legendgroup": "",
         "marker": {
          "color": "blueviolet",
          "pattern": {
           "shape": ""
          }
         },
         "name": "",
         "offsetgroup": "",
         "orientation": "v",
         "showlegend": false,
         "textposition": "auto",
         "type": "bar",
         "x": [
          "AlAhsa Health Cluster",
          "AlAhsa Health Cluster",
          "Asir Health Affairs",
          "Asir Health Affairs",
          "Asir Health Affairs",
          "Asir Health Affairs",
          "Asir Health Affairs",
          "Asir Health Affairs",
          "Asir Health Affairs",
          "Baha Health Affairs",
          "Baha Health Affairs",
          "Baha Health Affairs",
          "Baha Health Affairs",
          "Bisha Health Affairs",
          "Eastern Health Cluster",
          "Eastern Health Cluster",
          "Eastern Health Cluster",
          "Eastern Health Cluster",
          "Eastern Health Cluster",
          "Eastern Health Cluster",
          "Eastern Health Cluster",
          "Eastern Health Cluster",
          "Hafer AlBatin Health Affairs",
          "Hafer AlBatin Health Affairs",
          "Hail Health Cluster",
          "Hail Health Cluster",
          "Hail Health Cluster",
          "Hail Health Cluster",
          "Hail Health Cluster",
          "Hail Health Cluster",
          "Hail Health Cluster",
          "Hail Health Cluster",
          "Jazan Health Affairs",
          "Jazan Health Affairs",
          "Jazan Health Affairs",
          "Jazan Health Affairs",
          "Jazan Health Affairs",
          "Jazan Health Affairs",
          "Jazan Health Affairs",
          "Jazan Health Affairs",
          "Jazan Health Affairs",
          "Jazan Health Affairs",
          "Jazan Health Affairs",
          "Jazan Health Affairs",
          "Jeddah Health Affairs",
          "Jouf Health Affairs",
          "Jouf Health Affairs",
          "Madinah Health Cluster",
          "Madinah Health Cluster",
          "Madinah Health Cluster",
          "Madinah Health Cluster",
          "Madinah Health Cluster",
          "Madinah Health Cluster",
          "Madinah Health Cluster",
          "Madinah Health Cluster",
          "Madinah Health Cluster",
          "Makkah Health Cluster",
          "Makkah Health Cluster",
          "Najran Health Affairs",
          "Najran Health Affairs",
          "Najran Health Affairs",
          "Najran Health Affairs",
          "Najran Health Affairs",
          "Northern Borders Health Affairs",
          "Northern Borders Health Affairs",
          "Northern Borders Health Affairs",
          "Qassim Health Cluster",
          "Qassim Health Cluster",
          "Qassim Health Cluster",
          "Qassim Health Cluster",
          "Qassim Health Cluster",
          "Qassim Health Cluster",
          "Qassim Health Cluster",
          "Qassim Health Cluster",
          "Qassim Health Cluster",
          "Qunfotha Health Affairs",
          "Qunfotha Health Affairs",
          "Qunfotha Health Affairs",
          "Riyadh First Health Cluster",
          "Riyadh First Health Cluster",
          "Riyadh First Health Cluster",
          "Riyadh First Health Cluster",
          "Riyadh First Health Cluster",
          "Riyadh First Health Cluster",
          "Riyadh First Health Cluster",
          "Riyadh Second Health Cluster",
          "Riyadh Second Health Cluster",
          "Riyadh Second Health Cluster",
          "Riyadh Second Health Cluster",
          "Riyadh Third Health Cluster",
          "Riyadh Third Health Cluster",
          "Riyadh Third Health Cluster",
          "Riyadh Third Health Cluster",
          "Riyadh Third Health Cluster",
          "Riyadh Third Health Cluster",
          "Riyadh Third Health Cluster",
          "Tabuk Health Affairs",
          "Taif Health Affairs",
          "Taif Health Affairs",
          "Taif Health Affairs",
          "Taif Health Affairs",
          "Taif Health Affairs",
          "Taif Health Affairs",
          "Taif Health Affairs",
          "Taif Health Affairs",
          "Taif Health Affairs",
          "Taif Health Affairs",
          "Taif Health Affairs"
         ],
         "xaxis": "x",
         "y": [
          0,
          0,
          0,
          0,
          0,
          0,
          0.5847953216374269,
          0,
          0,
          0,
          0,
          0,
          0,
          0,
          0,
          0,
          0,
          0,
          0,
          0,
          0,
          0,
          0,
          0,
          0,
          0,
          0,
          0,
          0,
          0,
          0,
          0,
          18.45102505694761,
          23.37448559670782,
          2.9844726759427305,
          31.22043519394513,
          19.834710743801654,
          39.35281837160752,
          24.11910669975186,
          15.091930541368745,
          21.433224755700326,
          14.43850267379679,
          36.60377358490566,
          3.4460338101430428,
          0,
          0,
          0,
          0,
          0,
          0,
          0,
          0,
          0,
          0,
          0,
          0,
          0,
          0.05096839959225281,
          0,
          7.093368525239195,
          0,
          0,
          23.860021208907742,
          0,
          0,
          0,
          17.37649063032368,
          0,
          7.662337662337662,
          0,
          0,
          0.5893909626719057,
          1.5319492037895586,
          2.097902097902098,
          0.02835270768358378,
          0,
          0,
          0,
          0,
          0,
          0,
          0,
          0,
          0,
          0.4539826661163846,
          0,
          null,
          0,
          0,
          0,
          0,
          0,
          0.11346444780635401,
          0,
          0,
          0,
          0,
          0,
          0,
          0,
          0,
          0,
          0,
          0,
          0,
          0,
          0,
          0
         ],
         "yaxis": "y"
        }
       ],
       "layout": {
        "barmode": "relative",
        "height": 500,
        "legend": {
         "tracegroupgap": 0
        },
        "template": {
         "data": {
          "bar": [
           {
            "error_x": {
             "color": "#2a3f5f"
            },
            "error_y": {
             "color": "#2a3f5f"
            },
            "marker": {
             "line": {
              "color": "#E5ECF6",
              "width": 0.5
             },
             "pattern": {
              "fillmode": "overlay",
              "size": 10,
              "solidity": 0.2
             }
            },
            "type": "bar"
           }
          ],
          "barpolar": [
           {
            "marker": {
             "line": {
              "color": "#E5ECF6",
              "width": 0.5
             },
             "pattern": {
              "fillmode": "overlay",
              "size": 10,
              "solidity": 0.2
             }
            },
            "type": "barpolar"
           }
          ],
          "carpet": [
           {
            "aaxis": {
             "endlinecolor": "#2a3f5f",
             "gridcolor": "white",
             "linecolor": "white",
             "minorgridcolor": "white",
             "startlinecolor": "#2a3f5f"
            },
            "baxis": {
             "endlinecolor": "#2a3f5f",
             "gridcolor": "white",
             "linecolor": "white",
             "minorgridcolor": "white",
             "startlinecolor": "#2a3f5f"
            },
            "type": "carpet"
           }
          ],
          "choropleth": [
           {
            "colorbar": {
             "outlinewidth": 0,
             "ticks": ""
            },
            "type": "choropleth"
           }
          ],
          "contour": [
           {
            "colorbar": {
             "outlinewidth": 0,
             "ticks": ""
            },
            "colorscale": [
             [
              0,
              "#0d0887"
             ],
             [
              0.1111111111111111,
              "#46039f"
             ],
             [
              0.2222222222222222,
              "#7201a8"
             ],
             [
              0.3333333333333333,
              "#9c179e"
             ],
             [
              0.4444444444444444,
              "#bd3786"
             ],
             [
              0.5555555555555556,
              "#d8576b"
             ],
             [
              0.6666666666666666,
              "#ed7953"
             ],
             [
              0.7777777777777778,
              "#fb9f3a"
             ],
             [
              0.8888888888888888,
              "#fdca26"
             ],
             [
              1,
              "#f0f921"
             ]
            ],
            "type": "contour"
           }
          ],
          "contourcarpet": [
           {
            "colorbar": {
             "outlinewidth": 0,
             "ticks": ""
            },
            "type": "contourcarpet"
           }
          ],
          "heatmap": [
           {
            "colorbar": {
             "outlinewidth": 0,
             "ticks": ""
            },
            "colorscale": [
             [
              0,
              "#0d0887"
             ],
             [
              0.1111111111111111,
              "#46039f"
             ],
             [
              0.2222222222222222,
              "#7201a8"
             ],
             [
              0.3333333333333333,
              "#9c179e"
             ],
             [
              0.4444444444444444,
              "#bd3786"
             ],
             [
              0.5555555555555556,
              "#d8576b"
             ],
             [
              0.6666666666666666,
              "#ed7953"
             ],
             [
              0.7777777777777778,
              "#fb9f3a"
             ],
             [
              0.8888888888888888,
              "#fdca26"
             ],
             [
              1,
              "#f0f921"
             ]
            ],
            "type": "heatmap"
           }
          ],
          "heatmapgl": [
           {
            "colorbar": {
             "outlinewidth": 0,
             "ticks": ""
            },
            "colorscale": [
             [
              0,
              "#0d0887"
             ],
             [
              0.1111111111111111,
              "#46039f"
             ],
             [
              0.2222222222222222,
              "#7201a8"
             ],
             [
              0.3333333333333333,
              "#9c179e"
             ],
             [
              0.4444444444444444,
              "#bd3786"
             ],
             [
              0.5555555555555556,
              "#d8576b"
             ],
             [
              0.6666666666666666,
              "#ed7953"
             ],
             [
              0.7777777777777778,
              "#fb9f3a"
             ],
             [
              0.8888888888888888,
              "#fdca26"
             ],
             [
              1,
              "#f0f921"
             ]
            ],
            "type": "heatmapgl"
           }
          ],
          "histogram": [
           {
            "marker": {
             "pattern": {
              "fillmode": "overlay",
              "size": 10,
              "solidity": 0.2
             }
            },
            "type": "histogram"
           }
          ],
          "histogram2d": [
           {
            "colorbar": {
             "outlinewidth": 0,
             "ticks": ""
            },
            "colorscale": [
             [
              0,
              "#0d0887"
             ],
             [
              0.1111111111111111,
              "#46039f"
             ],
             [
              0.2222222222222222,
              "#7201a8"
             ],
             [
              0.3333333333333333,
              "#9c179e"
             ],
             [
              0.4444444444444444,
              "#bd3786"
             ],
             [
              0.5555555555555556,
              "#d8576b"
             ],
             [
              0.6666666666666666,
              "#ed7953"
             ],
             [
              0.7777777777777778,
              "#fb9f3a"
             ],
             [
              0.8888888888888888,
              "#fdca26"
             ],
             [
              1,
              "#f0f921"
             ]
            ],
            "type": "histogram2d"
           }
          ],
          "histogram2dcontour": [
           {
            "colorbar": {
             "outlinewidth": 0,
             "ticks": ""
            },
            "colorscale": [
             [
              0,
              "#0d0887"
             ],
             [
              0.1111111111111111,
              "#46039f"
             ],
             [
              0.2222222222222222,
              "#7201a8"
             ],
             [
              0.3333333333333333,
              "#9c179e"
             ],
             [
              0.4444444444444444,
              "#bd3786"
             ],
             [
              0.5555555555555556,
              "#d8576b"
             ],
             [
              0.6666666666666666,
              "#ed7953"
             ],
             [
              0.7777777777777778,
              "#fb9f3a"
             ],
             [
              0.8888888888888888,
              "#fdca26"
             ],
             [
              1,
              "#f0f921"
             ]
            ],
            "type": "histogram2dcontour"
           }
          ],
          "mesh3d": [
           {
            "colorbar": {
             "outlinewidth": 0,
             "ticks": ""
            },
            "type": "mesh3d"
           }
          ],
          "parcoords": [
           {
            "line": {
             "colorbar": {
              "outlinewidth": 0,
              "ticks": ""
             }
            },
            "type": "parcoords"
           }
          ],
          "pie": [
           {
            "automargin": true,
            "type": "pie"
           }
          ],
          "scatter": [
           {
            "fillpattern": {
             "fillmode": "overlay",
             "size": 10,
             "solidity": 0.2
            },
            "type": "scatter"
           }
          ],
          "scatter3d": [
           {
            "line": {
             "colorbar": {
              "outlinewidth": 0,
              "ticks": ""
             }
            },
            "marker": {
             "colorbar": {
              "outlinewidth": 0,
              "ticks": ""
             }
            },
            "type": "scatter3d"
           }
          ],
          "scattercarpet": [
           {
            "marker": {
             "colorbar": {
              "outlinewidth": 0,
              "ticks": ""
             }
            },
            "type": "scattercarpet"
           }
          ],
          "scattergeo": [
           {
            "marker": {
             "colorbar": {
              "outlinewidth": 0,
              "ticks": ""
             }
            },
            "type": "scattergeo"
           }
          ],
          "scattergl": [
           {
            "marker": {
             "colorbar": {
              "outlinewidth": 0,
              "ticks": ""
             }
            },
            "type": "scattergl"
           }
          ],
          "scattermapbox": [
           {
            "marker": {
             "colorbar": {
              "outlinewidth": 0,
              "ticks": ""
             }
            },
            "type": "scattermapbox"
           }
          ],
          "scatterpolar": [
           {
            "marker": {
             "colorbar": {
              "outlinewidth": 0,
              "ticks": ""
             }
            },
            "type": "scatterpolar"
           }
          ],
          "scatterpolargl": [
           {
            "marker": {
             "colorbar": {
              "outlinewidth": 0,
              "ticks": ""
             }
            },
            "type": "scatterpolargl"
           }
          ],
          "scatterternary": [
           {
            "marker": {
             "colorbar": {
              "outlinewidth": 0,
              "ticks": ""
             }
            },
            "type": "scatterternary"
           }
          ],
          "surface": [
           {
            "colorbar": {
             "outlinewidth": 0,
             "ticks": ""
            },
            "colorscale": [
             [
              0,
              "#0d0887"
             ],
             [
              0.1111111111111111,
              "#46039f"
             ],
             [
              0.2222222222222222,
              "#7201a8"
             ],
             [
              0.3333333333333333,
              "#9c179e"
             ],
             [
              0.4444444444444444,
              "#bd3786"
             ],
             [
              0.5555555555555556,
              "#d8576b"
             ],
             [
              0.6666666666666666,
              "#ed7953"
             ],
             [
              0.7777777777777778,
              "#fb9f3a"
             ],
             [
              0.8888888888888888,
              "#fdca26"
             ],
             [
              1,
              "#f0f921"
             ]
            ],
            "type": "surface"
           }
          ],
          "table": [
           {
            "cells": {
             "fill": {
              "color": "#EBF0F8"
             },
             "line": {
              "color": "white"
             }
            },
            "header": {
             "fill": {
              "color": "#C8D4E3"
             },
             "line": {
              "color": "white"
             }
            },
            "type": "table"
           }
          ]
         },
         "layout": {
          "annotationdefaults": {
           "arrowcolor": "#2a3f5f",
           "arrowhead": 0,
           "arrowwidth": 1
          },
          "autotypenumbers": "strict",
          "coloraxis": {
           "colorbar": {
            "outlinewidth": 0,
            "ticks": ""
           }
          },
          "colorscale": {
           "diverging": [
            [
             0,
             "#8e0152"
            ],
            [
             0.1,
             "#c51b7d"
            ],
            [
             0.2,
             "#de77ae"
            ],
            [
             0.3,
             "#f1b6da"
            ],
            [
             0.4,
             "#fde0ef"
            ],
            [
             0.5,
             "#f7f7f7"
            ],
            [
             0.6,
             "#e6f5d0"
            ],
            [
             0.7,
             "#b8e186"
            ],
            [
             0.8,
             "#7fbc41"
            ],
            [
             0.9,
             "#4d9221"
            ],
            [
             1,
             "#276419"
            ]
           ],
           "sequential": [
            [
             0,
             "#0d0887"
            ],
            [
             0.1111111111111111,
             "#46039f"
            ],
            [
             0.2222222222222222,
             "#7201a8"
            ],
            [
             0.3333333333333333,
             "#9c179e"
            ],
            [
             0.4444444444444444,
             "#bd3786"
            ],
            [
             0.5555555555555556,
             "#d8576b"
            ],
            [
             0.6666666666666666,
             "#ed7953"
            ],
            [
             0.7777777777777778,
             "#fb9f3a"
            ],
            [
             0.8888888888888888,
             "#fdca26"
            ],
            [
             1,
             "#f0f921"
            ]
           ],
           "sequentialminus": [
            [
             0,
             "#0d0887"
            ],
            [
             0.1111111111111111,
             "#46039f"
            ],
            [
             0.2222222222222222,
             "#7201a8"
            ],
            [
             0.3333333333333333,
             "#9c179e"
            ],
            [
             0.4444444444444444,
             "#bd3786"
            ],
            [
             0.5555555555555556,
             "#d8576b"
            ],
            [
             0.6666666666666666,
             "#ed7953"
            ],
            [
             0.7777777777777778,
             "#fb9f3a"
            ],
            [
             0.8888888888888888,
             "#fdca26"
            ],
            [
             1,
             "#f0f921"
            ]
           ]
          },
          "colorway": [
           "#636efa",
           "#EF553B",
           "#00cc96",
           "#ab63fa",
           "#FFA15A",
           "#19d3f3",
           "#FF6692",
           "#B6E880",
           "#FF97FF",
           "#FECB52"
          ],
          "font": {
           "color": "#2a3f5f"
          },
          "geo": {
           "bgcolor": "white",
           "lakecolor": "white",
           "landcolor": "#E5ECF6",
           "showlakes": true,
           "showland": true,
           "subunitcolor": "white"
          },
          "hoverlabel": {
           "align": "left"
          },
          "hovermode": "closest",
          "mapbox": {
           "style": "light"
          },
          "paper_bgcolor": "white",
          "plot_bgcolor": "#E5ECF6",
          "polar": {
           "angularaxis": {
            "gridcolor": "white",
            "linecolor": "white",
            "ticks": ""
           },
           "bgcolor": "#E5ECF6",
           "radialaxis": {
            "gridcolor": "white",
            "linecolor": "white",
            "ticks": ""
           }
          },
          "scene": {
           "xaxis": {
            "backgroundcolor": "#E5ECF6",
            "gridcolor": "white",
            "gridwidth": 2,
            "linecolor": "white",
            "showbackground": true,
            "ticks": "",
            "zerolinecolor": "white"
           },
           "yaxis": {
            "backgroundcolor": "#E5ECF6",
            "gridcolor": "white",
            "gridwidth": 2,
            "linecolor": "white",
            "showbackground": true,
            "ticks": "",
            "zerolinecolor": "white"
           },
           "zaxis": {
            "backgroundcolor": "#E5ECF6",
            "gridcolor": "white",
            "gridwidth": 2,
            "linecolor": "white",
            "showbackground": true,
            "ticks": "",
            "zerolinecolor": "white"
           }
          },
          "shapedefaults": {
           "line": {
            "color": "#2a3f5f"
           }
          },
          "ternary": {
           "aaxis": {
            "gridcolor": "white",
            "linecolor": "white",
            "ticks": ""
           },
           "baxis": {
            "gridcolor": "white",
            "linecolor": "white",
            "ticks": ""
           },
           "bgcolor": "#E5ECF6",
           "caxis": {
            "gridcolor": "white",
            "linecolor": "white",
            "ticks": ""
           }
          },
          "title": {
           "x": 0.05
          },
          "xaxis": {
           "automargin": true,
           "gridcolor": "white",
           "linecolor": "white",
           "ticks": "",
           "title": {
            "standoff": 15
           },
           "zerolinecolor": "white",
           "zerolinewidth": 2
          },
          "yaxis": {
           "automargin": true,
           "gridcolor": "white",
           "linecolor": "white",
           "ticks": "",
           "title": {
            "standoff": 15
           },
           "zerolinecolor": "white",
           "zerolinewidth": 2
          }
         }
        },
        "title": {
         "text": "The Top most activity - Cluster  in the last Quirter one"
        },
        "width": 800,
        "xaxis": {
         "anchor": "y",
         "domain": [
          0,
          1
         ],
         "title": {
          "text": "facility_name"
         }
        },
        "yaxis": {
         "anchor": "x",
         "domain": [
          0,
          1
         ],
         "title": {
          "text": "Subreddits"
         }
        }
       }
      },
      "text/html": [
       "<div>                            <div id=\"677577db-918e-4e73-a61b-4ae83ecf83ba\" class=\"plotly-graph-div\" style=\"height:500px; width:800px;\"></div>            <script type=\"text/javascript\">                require([\"plotly\"], function(Plotly) {                    window.PLOTLYENV=window.PLOTLYENV || {};                                    if (document.getElementById(\"677577db-918e-4e73-a61b-4ae83ecf83ba\")) {                    Plotly.newPlot(                        \"677577db-918e-4e73-a61b-4ae83ecf83ba\",                        [{\"alignmentgroup\":\"True\",\"hovertemplate\":\"facility_name=%{x}<br>Subreddits=%{y}<extra></extra>\",\"legendgroup\":\"\",\"marker\":{\"color\":\"blueviolet\",\"pattern\":{\"shape\":\"\"}},\"name\":\"\",\"offsetgroup\":\"\",\"orientation\":\"v\",\"showlegend\":false,\"textposition\":\"auto\",\"x\":[\"AlAhsa Health Cluster\",\"AlAhsa Health Cluster\",\"Asir Health Affairs\",\"Asir Health Affairs\",\"Asir Health Affairs\",\"Asir Health Affairs\",\"Asir Health Affairs\",\"Asir Health Affairs\",\"Asir Health Affairs\",\"Baha Health Affairs\",\"Baha Health Affairs\",\"Baha Health Affairs\",\"Baha Health Affairs\",\"Bisha Health Affairs\",\"Eastern Health Cluster\",\"Eastern Health Cluster\",\"Eastern Health Cluster\",\"Eastern Health Cluster\",\"Eastern Health Cluster\",\"Eastern Health Cluster\",\"Eastern Health Cluster\",\"Eastern Health Cluster\",\"Hafer AlBatin Health Affairs\",\"Hafer AlBatin Health Affairs\",\"Hail Health Cluster\",\"Hail Health Cluster\",\"Hail Health Cluster\",\"Hail Health Cluster\",\"Hail Health Cluster\",\"Hail Health Cluster\",\"Hail Health Cluster\",\"Hail Health Cluster\",\"Jazan Health Affairs\",\"Jazan Health Affairs\",\"Jazan Health Affairs\",\"Jazan Health Affairs\",\"Jazan Health Affairs\",\"Jazan Health Affairs\",\"Jazan Health Affairs\",\"Jazan Health Affairs\",\"Jazan Health Affairs\",\"Jazan Health Affairs\",\"Jazan Health Affairs\",\"Jazan Health Affairs\",\"Jeddah Health Affairs\",\"Jouf Health Affairs\",\"Jouf Health Affairs\",\"Madinah Health Cluster\",\"Madinah Health Cluster\",\"Madinah Health Cluster\",\"Madinah Health Cluster\",\"Madinah Health Cluster\",\"Madinah Health Cluster\",\"Madinah Health Cluster\",\"Madinah Health Cluster\",\"Madinah Health Cluster\",\"Makkah Health Cluster\",\"Makkah Health Cluster\",\"Najran Health Affairs\",\"Najran Health Affairs\",\"Najran Health Affairs\",\"Najran Health Affairs\",\"Najran Health Affairs\",\"Northern Borders Health Affairs\",\"Northern Borders Health Affairs\",\"Northern Borders Health Affairs\",\"Qassim Health Cluster\",\"Qassim Health Cluster\",\"Qassim Health Cluster\",\"Qassim Health Cluster\",\"Qassim Health Cluster\",\"Qassim Health Cluster\",\"Qassim Health Cluster\",\"Qassim Health Cluster\",\"Qassim Health Cluster\",\"Qunfotha Health Affairs\",\"Qunfotha Health Affairs\",\"Qunfotha Health Affairs\",\"Riyadh First Health Cluster\",\"Riyadh First Health Cluster\",\"Riyadh First Health Cluster\",\"Riyadh First Health Cluster\",\"Riyadh First Health Cluster\",\"Riyadh First Health Cluster\",\"Riyadh First Health Cluster\",\"Riyadh Second Health Cluster\",\"Riyadh Second Health Cluster\",\"Riyadh Second Health Cluster\",\"Riyadh Second Health Cluster\",\"Riyadh Third Health Cluster\",\"Riyadh Third Health Cluster\",\"Riyadh Third Health Cluster\",\"Riyadh Third Health Cluster\",\"Riyadh Third Health Cluster\",\"Riyadh Third Health Cluster\",\"Riyadh Third Health Cluster\",\"Tabuk Health Affairs\",\"Taif Health Affairs\",\"Taif Health Affairs\",\"Taif Health Affairs\",\"Taif Health Affairs\",\"Taif Health Affairs\",\"Taif Health Affairs\",\"Taif Health Affairs\",\"Taif Health Affairs\",\"Taif Health Affairs\",\"Taif Health Affairs\",\"Taif Health Affairs\"],\"xaxis\":\"x\",\"y\":[0.0,0.0,0.0,0.0,0.0,0.0,0.5847953216374269,0.0,0.0,0.0,0.0,0.0,0.0,0.0,0.0,0.0,0.0,0.0,0.0,0.0,0.0,0.0,0.0,0.0,0.0,0.0,0.0,0.0,0.0,0.0,0.0,0.0,18.45102505694761,23.37448559670782,2.9844726759427305,31.22043519394513,19.834710743801654,39.35281837160752,24.11910669975186,15.091930541368745,21.433224755700326,14.43850267379679,36.60377358490566,3.4460338101430428,0.0,0.0,0.0,0.0,0.0,0.0,0.0,0.0,0.0,0.0,0.0,0.0,0.0,0.05096839959225281,0.0,7.093368525239195,0.0,0.0,23.860021208907742,0.0,0.0,0.0,17.37649063032368,0.0,7.662337662337662,0.0,0.0,0.5893909626719057,1.5319492037895586,2.097902097902098,0.02835270768358378,0.0,0.0,0.0,0.0,0.0,0.0,0.0,0.0,0.0,0.4539826661163846,0.0,null,0.0,0.0,0.0,0.0,0.0,0.11346444780635401,0.0,0.0,0.0,0.0,0.0,0.0,0.0,0.0,0.0,0.0,0.0,0.0,0.0,0.0,0.0],\"yaxis\":\"y\",\"type\":\"bar\"}],                        {\"template\":{\"data\":{\"histogram2dcontour\":[{\"type\":\"histogram2dcontour\",\"colorbar\":{\"outlinewidth\":0,\"ticks\":\"\"},\"colorscale\":[[0.0,\"#0d0887\"],[0.1111111111111111,\"#46039f\"],[0.2222222222222222,\"#7201a8\"],[0.3333333333333333,\"#9c179e\"],[0.4444444444444444,\"#bd3786\"],[0.5555555555555556,\"#d8576b\"],[0.6666666666666666,\"#ed7953\"],[0.7777777777777778,\"#fb9f3a\"],[0.8888888888888888,\"#fdca26\"],[1.0,\"#f0f921\"]]}],\"choropleth\":[{\"type\":\"choropleth\",\"colorbar\":{\"outlinewidth\":0,\"ticks\":\"\"}}],\"histogram2d\":[{\"type\":\"histogram2d\",\"colorbar\":{\"outlinewidth\":0,\"ticks\":\"\"},\"colorscale\":[[0.0,\"#0d0887\"],[0.1111111111111111,\"#46039f\"],[0.2222222222222222,\"#7201a8\"],[0.3333333333333333,\"#9c179e\"],[0.4444444444444444,\"#bd3786\"],[0.5555555555555556,\"#d8576b\"],[0.6666666666666666,\"#ed7953\"],[0.7777777777777778,\"#fb9f3a\"],[0.8888888888888888,\"#fdca26\"],[1.0,\"#f0f921\"]]}],\"heatmap\":[{\"type\":\"heatmap\",\"colorbar\":{\"outlinewidth\":0,\"ticks\":\"\"},\"colorscale\":[[0.0,\"#0d0887\"],[0.1111111111111111,\"#46039f\"],[0.2222222222222222,\"#7201a8\"],[0.3333333333333333,\"#9c179e\"],[0.4444444444444444,\"#bd3786\"],[0.5555555555555556,\"#d8576b\"],[0.6666666666666666,\"#ed7953\"],[0.7777777777777778,\"#fb9f3a\"],[0.8888888888888888,\"#fdca26\"],[1.0,\"#f0f921\"]]}],\"heatmapgl\":[{\"type\":\"heatmapgl\",\"colorbar\":{\"outlinewidth\":0,\"ticks\":\"\"},\"colorscale\":[[0.0,\"#0d0887\"],[0.1111111111111111,\"#46039f\"],[0.2222222222222222,\"#7201a8\"],[0.3333333333333333,\"#9c179e\"],[0.4444444444444444,\"#bd3786\"],[0.5555555555555556,\"#d8576b\"],[0.6666666666666666,\"#ed7953\"],[0.7777777777777778,\"#fb9f3a\"],[0.8888888888888888,\"#fdca26\"],[1.0,\"#f0f921\"]]}],\"contourcarpet\":[{\"type\":\"contourcarpet\",\"colorbar\":{\"outlinewidth\":0,\"ticks\":\"\"}}],\"contour\":[{\"type\":\"contour\",\"colorbar\":{\"outlinewidth\":0,\"ticks\":\"\"},\"colorscale\":[[0.0,\"#0d0887\"],[0.1111111111111111,\"#46039f\"],[0.2222222222222222,\"#7201a8\"],[0.3333333333333333,\"#9c179e\"],[0.4444444444444444,\"#bd3786\"],[0.5555555555555556,\"#d8576b\"],[0.6666666666666666,\"#ed7953\"],[0.7777777777777778,\"#fb9f3a\"],[0.8888888888888888,\"#fdca26\"],[1.0,\"#f0f921\"]]}],\"surface\":[{\"type\":\"surface\",\"colorbar\":{\"outlinewidth\":0,\"ticks\":\"\"},\"colorscale\":[[0.0,\"#0d0887\"],[0.1111111111111111,\"#46039f\"],[0.2222222222222222,\"#7201a8\"],[0.3333333333333333,\"#9c179e\"],[0.4444444444444444,\"#bd3786\"],[0.5555555555555556,\"#d8576b\"],[0.6666666666666666,\"#ed7953\"],[0.7777777777777778,\"#fb9f3a\"],[0.8888888888888888,\"#fdca26\"],[1.0,\"#f0f921\"]]}],\"mesh3d\":[{\"type\":\"mesh3d\",\"colorbar\":{\"outlinewidth\":0,\"ticks\":\"\"}}],\"scatter\":[{\"fillpattern\":{\"fillmode\":\"overlay\",\"size\":10,\"solidity\":0.2},\"type\":\"scatter\"}],\"parcoords\":[{\"type\":\"parcoords\",\"line\":{\"colorbar\":{\"outlinewidth\":0,\"ticks\":\"\"}}}],\"scatterpolargl\":[{\"type\":\"scatterpolargl\",\"marker\":{\"colorbar\":{\"outlinewidth\":0,\"ticks\":\"\"}}}],\"bar\":[{\"error_x\":{\"color\":\"#2a3f5f\"},\"error_y\":{\"color\":\"#2a3f5f\"},\"marker\":{\"line\":{\"color\":\"#E5ECF6\",\"width\":0.5},\"pattern\":{\"fillmode\":\"overlay\",\"size\":10,\"solidity\":0.2}},\"type\":\"bar\"}],\"scattergeo\":[{\"type\":\"scattergeo\",\"marker\":{\"colorbar\":{\"outlinewidth\":0,\"ticks\":\"\"}}}],\"scatterpolar\":[{\"type\":\"scatterpolar\",\"marker\":{\"colorbar\":{\"outlinewidth\":0,\"ticks\":\"\"}}}],\"histogram\":[{\"marker\":{\"pattern\":{\"fillmode\":\"overlay\",\"size\":10,\"solidity\":0.2}},\"type\":\"histogram\"}],\"scattergl\":[{\"type\":\"scattergl\",\"marker\":{\"colorbar\":{\"outlinewidth\":0,\"ticks\":\"\"}}}],\"scatter3d\":[{\"type\":\"scatter3d\",\"line\":{\"colorbar\":{\"outlinewidth\":0,\"ticks\":\"\"}},\"marker\":{\"colorbar\":{\"outlinewidth\":0,\"ticks\":\"\"}}}],\"scattermapbox\":[{\"type\":\"scattermapbox\",\"marker\":{\"colorbar\":{\"outlinewidth\":0,\"ticks\":\"\"}}}],\"scatterternary\":[{\"type\":\"scatterternary\",\"marker\":{\"colorbar\":{\"outlinewidth\":0,\"ticks\":\"\"}}}],\"scattercarpet\":[{\"type\":\"scattercarpet\",\"marker\":{\"colorbar\":{\"outlinewidth\":0,\"ticks\":\"\"}}}],\"carpet\":[{\"aaxis\":{\"endlinecolor\":\"#2a3f5f\",\"gridcolor\":\"white\",\"linecolor\":\"white\",\"minorgridcolor\":\"white\",\"startlinecolor\":\"#2a3f5f\"},\"baxis\":{\"endlinecolor\":\"#2a3f5f\",\"gridcolor\":\"white\",\"linecolor\":\"white\",\"minorgridcolor\":\"white\",\"startlinecolor\":\"#2a3f5f\"},\"type\":\"carpet\"}],\"table\":[{\"cells\":{\"fill\":{\"color\":\"#EBF0F8\"},\"line\":{\"color\":\"white\"}},\"header\":{\"fill\":{\"color\":\"#C8D4E3\"},\"line\":{\"color\":\"white\"}},\"type\":\"table\"}],\"barpolar\":[{\"marker\":{\"line\":{\"color\":\"#E5ECF6\",\"width\":0.5},\"pattern\":{\"fillmode\":\"overlay\",\"size\":10,\"solidity\":0.2}},\"type\":\"barpolar\"}],\"pie\":[{\"automargin\":true,\"type\":\"pie\"}]},\"layout\":{\"autotypenumbers\":\"strict\",\"colorway\":[\"#636efa\",\"#EF553B\",\"#00cc96\",\"#ab63fa\",\"#FFA15A\",\"#19d3f3\",\"#FF6692\",\"#B6E880\",\"#FF97FF\",\"#FECB52\"],\"font\":{\"color\":\"#2a3f5f\"},\"hovermode\":\"closest\",\"hoverlabel\":{\"align\":\"left\"},\"paper_bgcolor\":\"white\",\"plot_bgcolor\":\"#E5ECF6\",\"polar\":{\"bgcolor\":\"#E5ECF6\",\"angularaxis\":{\"gridcolor\":\"white\",\"linecolor\":\"white\",\"ticks\":\"\"},\"radialaxis\":{\"gridcolor\":\"white\",\"linecolor\":\"white\",\"ticks\":\"\"}},\"ternary\":{\"bgcolor\":\"#E5ECF6\",\"aaxis\":{\"gridcolor\":\"white\",\"linecolor\":\"white\",\"ticks\":\"\"},\"baxis\":{\"gridcolor\":\"white\",\"linecolor\":\"white\",\"ticks\":\"\"},\"caxis\":{\"gridcolor\":\"white\",\"linecolor\":\"white\",\"ticks\":\"\"}},\"coloraxis\":{\"colorbar\":{\"outlinewidth\":0,\"ticks\":\"\"}},\"colorscale\":{\"sequential\":[[0.0,\"#0d0887\"],[0.1111111111111111,\"#46039f\"],[0.2222222222222222,\"#7201a8\"],[0.3333333333333333,\"#9c179e\"],[0.4444444444444444,\"#bd3786\"],[0.5555555555555556,\"#d8576b\"],[0.6666666666666666,\"#ed7953\"],[0.7777777777777778,\"#fb9f3a\"],[0.8888888888888888,\"#fdca26\"],[1.0,\"#f0f921\"]],\"sequentialminus\":[[0.0,\"#0d0887\"],[0.1111111111111111,\"#46039f\"],[0.2222222222222222,\"#7201a8\"],[0.3333333333333333,\"#9c179e\"],[0.4444444444444444,\"#bd3786\"],[0.5555555555555556,\"#d8576b\"],[0.6666666666666666,\"#ed7953\"],[0.7777777777777778,\"#fb9f3a\"],[0.8888888888888888,\"#fdca26\"],[1.0,\"#f0f921\"]],\"diverging\":[[0,\"#8e0152\"],[0.1,\"#c51b7d\"],[0.2,\"#de77ae\"],[0.3,\"#f1b6da\"],[0.4,\"#fde0ef\"],[0.5,\"#f7f7f7\"],[0.6,\"#e6f5d0\"],[0.7,\"#b8e186\"],[0.8,\"#7fbc41\"],[0.9,\"#4d9221\"],[1,\"#276419\"]]},\"xaxis\":{\"gridcolor\":\"white\",\"linecolor\":\"white\",\"ticks\":\"\",\"title\":{\"standoff\":15},\"zerolinecolor\":\"white\",\"automargin\":true,\"zerolinewidth\":2},\"yaxis\":{\"gridcolor\":\"white\",\"linecolor\":\"white\",\"ticks\":\"\",\"title\":{\"standoff\":15},\"zerolinecolor\":\"white\",\"automargin\":true,\"zerolinewidth\":2},\"scene\":{\"xaxis\":{\"backgroundcolor\":\"#E5ECF6\",\"gridcolor\":\"white\",\"linecolor\":\"white\",\"showbackground\":true,\"ticks\":\"\",\"zerolinecolor\":\"white\",\"gridwidth\":2},\"yaxis\":{\"backgroundcolor\":\"#E5ECF6\",\"gridcolor\":\"white\",\"linecolor\":\"white\",\"showbackground\":true,\"ticks\":\"\",\"zerolinecolor\":\"white\",\"gridwidth\":2},\"zaxis\":{\"backgroundcolor\":\"#E5ECF6\",\"gridcolor\":\"white\",\"linecolor\":\"white\",\"showbackground\":true,\"ticks\":\"\",\"zerolinecolor\":\"white\",\"gridwidth\":2}},\"shapedefaults\":{\"line\":{\"color\":\"#2a3f5f\"}},\"annotationdefaults\":{\"arrowcolor\":\"#2a3f5f\",\"arrowhead\":0,\"arrowwidth\":1},\"geo\":{\"bgcolor\":\"white\",\"landcolor\":\"#E5ECF6\",\"subunitcolor\":\"white\",\"showland\":true,\"showlakes\":true,\"lakecolor\":\"white\"},\"title\":{\"x\":0.05},\"mapbox\":{\"style\":\"light\"}}},\"xaxis\":{\"anchor\":\"y\",\"domain\":[0.0,1.0],\"title\":{\"text\":\"facility_name\"}},\"yaxis\":{\"anchor\":\"x\",\"domain\":[0.0,1.0],\"title\":{\"text\":\"Subreddits\"}},\"legend\":{\"tracegroupgap\":0},\"title\":{\"text\":\"The Top most activity - Cluster  in the last Quirter one\"},\"barmode\":\"relative\",\"height\":500,\"width\":800},                        {\"responsive\": true}                    ).then(function(){\n",
       "                            \n",
       "var gd = document.getElementById('677577db-918e-4e73-a61b-4ae83ecf83ba');\n",
       "var x = new MutationObserver(function (mutations, observer) {{\n",
       "        var display = window.getComputedStyle(gd).display;\n",
       "        if (!display || display === 'none') {{\n",
       "            console.log([gd, 'removed!']);\n",
       "            Plotly.purge(gd);\n",
       "            observer.disconnect();\n",
       "        }}\n",
       "}});\n",
       "\n",
       "// Listen for the removal of the full notebook cells\n",
       "var notebookContainer = gd.closest('#notebook-container');\n",
       "if (notebookContainer) {{\n",
       "    x.observe(notebookContainer, {childList: true});\n",
       "}}\n",
       "\n",
       "// Listen for the clearing of the current output cell\n",
       "var outputEl = gd.closest('.output');\n",
       "if (outputEl) {{\n",
       "    x.observe(outputEl, {childList: true});\n",
       "}}\n",
       "\n",
       "                        })                };                });            </script>        </div>"
      ]
     },
     "metadata": {},
     "output_type": "display_data"
    }
   ],
   "source": [
    "# Vsulaztion : \n",
    "# The TOP 10 HOSPITAL \n",
    "# create a dashboard ...... \n",
    "import plotly.express as px\n",
    "px.bar(df,              # our dataframe\n",
    "       x=\"directorate_name\",         # x will be the 'key' column of the dataframe\n",
    "       y=\"Percentage\",   # y will be the 'doc_count' column of the dataframe\n",
    "       title=f\"The Top most activity - Cluster  in the last Quirter one\",\n",
    "       labels={\"directorate_name\": \"facility_name\",\"Percentage\": \"Subreddits\"}, # the axis names\n",
    "       color_discrete_sequence=[\"blueviolet\"], # the colors used\n",
    "       height=500,\n",
    "       width=800)\n"
   ]
  },
  {
   "cell_type": "code",
   "execution_count": null,
   "id": "7032692e",
   "metadata": {},
   "outputs": [],
   "source": []
  }
 ],
 "metadata": {
  "kernelspec": {
   "display_name": "Python 3",
   "language": "python",
   "name": "python3"
  },
  "language_info": {
   "codemirror_mode": {
    "name": "ipython",
    "version": 3
   },
   "file_extension": ".py",
   "mimetype": "text/x-python",
   "name": "python",
   "nbconvert_exporter": "python",
   "pygments_lexer": "ipython3",
   "version": "3.8.8"
  }
 },
 "nbformat": 4,
 "nbformat_minor": 5
}
